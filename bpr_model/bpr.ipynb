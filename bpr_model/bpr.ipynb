{
 "cells": [
  {
   "cell_type": "code",
   "execution_count": 5,
   "id": "d391c4a9",
   "metadata": {},
   "outputs": [],
   "source": [
    "import os\n",
    "import pandas as pd\n",
    "import numpy as np\n",
    "# import matplotlib.pyplot as plt\n",
    "# import seaborn as sns"
   ]
  },
  {
   "cell_type": "code",
   "execution_count": 98,
   "id": "5d14abf1",
   "metadata": {},
   "outputs": [
    {
     "name": "stdout",
     "output_type": "stream",
     "text": [
      "Looking in indexes: https://pypi.org/simple, https://pypi.ngc.nvidia.com\n",
      "Requirement already satisfied: cornac in c:\\users\\user\\appdata\\roaming\\python\\python312\\site-packages (2.3.3)\n",
      "Requirement already satisfied: numpy>2.0.0 in c:\\users\\user\\appdata\\local\\programs\\python\\python312\\lib\\site-packages (from cornac) (2.2.5)\n",
      "Requirement already satisfied: scipy in c:\\users\\user\\appdata\\local\\programs\\python\\python312\\lib\\site-packages (from cornac) (1.15.3)\n",
      "Requirement already satisfied: tqdm in c:\\users\\user\\appdata\\local\\programs\\python\\python312\\lib\\site-packages (from cornac) (4.66.2)\n",
      "Requirement already satisfied: powerlaw in c:\\users\\user\\appdata\\roaming\\python\\python312\\site-packages (from cornac) (1.5)\n",
      "Requirement already satisfied: matplotlib in c:\\users\\user\\appdata\\local\\programs\\python\\python312\\lib\\site-packages (from powerlaw->cornac) (3.10.1)\n",
      "Requirement already satisfied: mpmath in c:\\users\\user\\appdata\\local\\programs\\python\\python312\\lib\\site-packages (from powerlaw->cornac) (1.3.0)\n",
      "Requirement already satisfied: colorama in c:\\users\\user\\appdata\\roaming\\python\\python312\\site-packages (from tqdm->cornac) (0.4.6)\n",
      "Requirement already satisfied: contourpy>=1.0.1 in c:\\users\\user\\appdata\\local\\programs\\python\\python312\\lib\\site-packages (from matplotlib->powerlaw->cornac) (1.3.2)\n",
      "Requirement already satisfied: cycler>=0.10 in c:\\users\\user\\appdata\\local\\programs\\python\\python312\\lib\\site-packages (from matplotlib->powerlaw->cornac) (0.12.1)\n",
      "Requirement already satisfied: fonttools>=4.22.0 in c:\\users\\user\\appdata\\local\\programs\\python\\python312\\lib\\site-packages (from matplotlib->powerlaw->cornac) (4.46.0)\n",
      "Requirement already satisfied: kiwisolver>=1.3.1 in c:\\users\\user\\appdata\\local\\programs\\python\\python312\\lib\\site-packages (from matplotlib->powerlaw->cornac) (1.4.5)\n",
      "Requirement already satisfied: packaging>=20.0 in c:\\users\\user\\appdata\\roaming\\python\\python312\\site-packages (from matplotlib->powerlaw->cornac) (23.2)\n",
      "Requirement already satisfied: pillow>=8 in c:\\users\\user\\appdata\\local\\programs\\python\\python312\\lib\\site-packages (from matplotlib->powerlaw->cornac) (10.1.0)\n",
      "Requirement already satisfied: pyparsing>=2.3.1 in c:\\users\\user\\appdata\\local\\programs\\python\\python312\\lib\\site-packages (from matplotlib->powerlaw->cornac) (3.1.1)\n",
      "Requirement already satisfied: python-dateutil>=2.7 in c:\\users\\user\\appdata\\roaming\\python\\python312\\site-packages (from matplotlib->powerlaw->cornac) (2.8.2)\n",
      "Requirement already satisfied: six>=1.5 in c:\\users\\user\\appdata\\roaming\\python\\python312\\site-packages (from python-dateutil>=2.7->matplotlib->powerlaw->cornac) (1.16.0)\n",
      "Note: you may need to restart the kernel to use updated packages.\n"
     ]
    },
    {
     "name": "stderr",
     "output_type": "stream",
     "text": [
      "WARNING: Ignoring invalid distribution ~atplotlib (c:\\Users\\User\\AppData\\Local\\Programs\\Python\\Python312\\Lib\\site-packages)\n",
      "WARNING: Ignoring invalid distribution ~atplotlib (c:\\Users\\User\\AppData\\Local\\Programs\\Python\\Python312\\Lib\\site-packages)\n",
      "WARNING: Ignoring invalid distribution ~atplotlib (c:\\Users\\User\\AppData\\Local\\Programs\\Python\\Python312\\Lib\\site-packages)\n",
      "\n",
      "[notice] A new release of pip is available: 25.0.1 -> 25.1.1\n",
      "[notice] To update, run: python.exe -m pip install --upgrade pip\n"
     ]
    }
   ],
   "source": [
    "%pip install cornac"
   ]
  },
  {
   "cell_type": "code",
   "execution_count": 6,
   "id": "87a586f2",
   "metadata": {},
   "outputs": [],
   "source": [
    "import os\n",
    "import sys\n",
    "import pandas as pd\n",
    "from cornac.models import BPR\n",
    "from cornac.data import Dataset\n",
    "import movielens\n",
    "\n",
    "from python_splitters import python_random_split\n",
    "from python_evaluation import map, ndcg_at_k, precision_at_k, recall_at_k\n",
    "from cornac_utils import predict_ranking\n",
    "from timer import Timer\n",
    "from constants import SEED\n",
    "from notebook_utils import store_metadata"
   ]
  },
  {
   "cell_type": "markdown",
   "id": "a7252ee0",
   "metadata": {},
   "source": [
    "#### Bayesian Personalized Ranking (BPR)"
   ]
  },
  {
   "cell_type": "code",
   "execution_count": 194,
   "id": "00d17cd5",
   "metadata": {},
   "outputs": [],
   "source": [
    "ancillaries = [\n",
    "    'PAID_SEATS',\n",
    "    'EXTRA_BAGGAGE',\n",
    "    'SPECIAL_EQUIPMENT',\n",
    "    'FAST_TRACK',\n",
    "    'ONBOARD_MEALS',\n",
    "    'BUSINESS_LOUNGE'\n",
    "]"
   ]
  },
  {
   "cell_type": "markdown",
   "id": "f80c87b4",
   "metadata": {},
   "source": [
    "##### Modelling with BPR (Negative sampling/Positive sampling)"
   ]
  },
  {
   "cell_type": "code",
   "execution_count": 7,
   "id": "cbf378f1",
   "metadata": {},
   "outputs": [],
   "source": [
    "bpr = pd.read_csv(\"bpr_data.csv\")"
   ]
  },
  {
   "cell_type": "code",
   "execution_count": 8,
   "id": "aafb529e",
   "metadata": {},
   "outputs": [
    {
     "data": {
      "text/html": [
       "<div>\n",
       "<style scoped>\n",
       "    .dataframe tbody tr th:only-of-type {\n",
       "        vertical-align: middle;\n",
       "    }\n",
       "\n",
       "    .dataframe tbody tr th {\n",
       "        vertical-align: top;\n",
       "    }\n",
       "\n",
       "    .dataframe thead th {\n",
       "        text-align: right;\n",
       "    }\n",
       "</style>\n",
       "<table border=\"1\" class=\"dataframe\">\n",
       "  <thead>\n",
       "    <tr style=\"text-align: right;\">\n",
       "      <th></th>\n",
       "      <th>COOKIE_ID</th>\n",
       "      <th>PAID_SEATS</th>\n",
       "      <th>EXTRA_BAGGAGE</th>\n",
       "      <th>SPECIAL_EQUIPMENT</th>\n",
       "      <th>FAST_TRACK</th>\n",
       "      <th>ONBOARD_MEALS</th>\n",
       "      <th>BUSINESS_LOUNGE</th>\n",
       "    </tr>\n",
       "  </thead>\n",
       "  <tbody>\n",
       "    <tr>\n",
       "      <th>0</th>\n",
       "      <td>90160409479417649411999102181002937619</td>\n",
       "      <td>0</td>\n",
       "      <td>0</td>\n",
       "      <td>0</td>\n",
       "      <td>0</td>\n",
       "      <td>0</td>\n",
       "      <td>0</td>\n",
       "    </tr>\n",
       "    <tr>\n",
       "      <th>1</th>\n",
       "      <td>83506423751136985820103526870163297871</td>\n",
       "      <td>0</td>\n",
       "      <td>0</td>\n",
       "      <td>0</td>\n",
       "      <td>0</td>\n",
       "      <td>0</td>\n",
       "      <td>0</td>\n",
       "    </tr>\n",
       "    <tr>\n",
       "      <th>2</th>\n",
       "      <td>78236612428921115877508527232487027464</td>\n",
       "      <td>0</td>\n",
       "      <td>0</td>\n",
       "      <td>0</td>\n",
       "      <td>0</td>\n",
       "      <td>0</td>\n",
       "      <td>0</td>\n",
       "    </tr>\n",
       "    <tr>\n",
       "      <th>3</th>\n",
       "      <td>86513654906858836814951255651058285578</td>\n",
       "      <td>0</td>\n",
       "      <td>0</td>\n",
       "      <td>0</td>\n",
       "      <td>0</td>\n",
       "      <td>0</td>\n",
       "      <td>0</td>\n",
       "    </tr>\n",
       "    <tr>\n",
       "      <th>4</th>\n",
       "      <td>07263717780177747617979091720349832062</td>\n",
       "      <td>0</td>\n",
       "      <td>0</td>\n",
       "      <td>0</td>\n",
       "      <td>0</td>\n",
       "      <td>0</td>\n",
       "      <td>0</td>\n",
       "    </tr>\n",
       "  </tbody>\n",
       "</table>\n",
       "</div>"
      ],
      "text/plain": [
       "                                COOKIE_ID  PAID_SEATS  EXTRA_BAGGAGE  \\\n",
       "0  90160409479417649411999102181002937619           0              0   \n",
       "1  83506423751136985820103526870163297871           0              0   \n",
       "2  78236612428921115877508527232487027464           0              0   \n",
       "3  86513654906858836814951255651058285578           0              0   \n",
       "4  07263717780177747617979091720349832062           0              0   \n",
       "\n",
       "   SPECIAL_EQUIPMENT  FAST_TRACK  ONBOARD_MEALS  BUSINESS_LOUNGE  \n",
       "0                  0           0              0                0  \n",
       "1                  0           0              0                0  \n",
       "2                  0           0              0                0  \n",
       "3                  0           0              0                0  \n",
       "4                  0           0              0                0  "
      ]
     },
     "execution_count": 8,
     "metadata": {},
     "output_type": "execute_result"
    }
   ],
   "source": [
    "bpr.head()"
   ]
  },
  {
   "cell_type": "code",
   "execution_count": 462,
   "id": "c64f783e",
   "metadata": {},
   "outputs": [
    {
     "name": "stdout",
     "output_type": "stream",
     "text": [
      "<class 'pandas.core.frame.DataFrame'>\n",
      "RangeIndex: 1323762 entries, 0 to 1323761\n",
      "Data columns (total 7 columns):\n",
      " #   Column             Non-Null Count    Dtype \n",
      "---  ------             --------------    ----- \n",
      " 0   COOKIE_ID          1323762 non-null  object\n",
      " 1   PAID_SEATS         1323762 non-null  int64 \n",
      " 2   EXTRA_BAGGAGE      1323762 non-null  int64 \n",
      " 3   SPECIAL_EQUIPMENT  1323762 non-null  int64 \n",
      " 4   FAST_TRACK         1323762 non-null  int64 \n",
      " 5   ONBOARD_MEALS      1323762 non-null  int64 \n",
      " 6   BUSINESS_LOUNGE    1323762 non-null  int64 \n",
      "dtypes: int64(6), object(1)\n",
      "memory usage: 70.7+ MB\n"
     ]
    }
   ],
   "source": [
    "bpr.info()"
   ]
  },
  {
   "cell_type": "code",
   "execution_count": 463,
   "id": "5655c2db",
   "metadata": {},
   "outputs": [],
   "source": [
    "bpr = bpr.rename(columns={\"COOKIE_ID\": \"userID\"})"
   ]
  },
  {
   "cell_type": "code",
   "execution_count": 464,
   "id": "00c24306",
   "metadata": {},
   "outputs": [],
   "source": [
    "# Wide → Long\n",
    "bpr_long = bpr.melt(id_vars=\"userID\", \n",
    "                    var_name=\"itemID\", \n",
    "                    value_name=\"rating\")"
   ]
  },
  {
   "cell_type": "code",
   "execution_count": 465,
   "id": "feae4ce6",
   "metadata": {},
   "outputs": [],
   "source": [
    "# Only keep positive ratings\n",
    "bpr_long = bpr_long[bpr_long[\"rating\"] > 0].copy()"
   ]
  },
  {
   "cell_type": "code",
   "execution_count": 466,
   "id": "4e6c36ce",
   "metadata": {},
   "outputs": [],
   "source": [
    "# Convert userID in string (Cornac requires it)\n",
    "bpr_long[\"userID\"] = bpr_long[\"userID\"].astype(str)"
   ]
  },
  {
   "cell_type": "code",
   "execution_count": 467,
   "id": "7e51a0f0",
   "metadata": {},
   "outputs": [
    {
     "data": {
      "text/html": [
       "<div>\n",
       "<style scoped>\n",
       "    .dataframe tbody tr th:only-of-type {\n",
       "        vertical-align: middle;\n",
       "    }\n",
       "\n",
       "    .dataframe tbody tr th {\n",
       "        vertical-align: top;\n",
       "    }\n",
       "\n",
       "    .dataframe thead th {\n",
       "        text-align: right;\n",
       "    }\n",
       "</style>\n",
       "<table border=\"1\" class=\"dataframe\">\n",
       "  <thead>\n",
       "    <tr style=\"text-align: right;\">\n",
       "      <th></th>\n",
       "      <th>userID</th>\n",
       "      <th>itemID</th>\n",
       "      <th>rating</th>\n",
       "    </tr>\n",
       "  </thead>\n",
       "  <tbody>\n",
       "    <tr>\n",
       "      <th>16</th>\n",
       "      <td>86513654906858836814951255651058285578</td>\n",
       "      <td>PAID_SEATS</td>\n",
       "      <td>1</td>\n",
       "    </tr>\n",
       "    <tr>\n",
       "      <th>34</th>\n",
       "      <td>76228591696139306440880104031696963377</td>\n",
       "      <td>PAID_SEATS</td>\n",
       "      <td>1</td>\n",
       "    </tr>\n",
       "    <tr>\n",
       "      <th>36</th>\n",
       "      <td>26925697700094090916284869761824808938</td>\n",
       "      <td>PAID_SEATS</td>\n",
       "      <td>1</td>\n",
       "    </tr>\n",
       "    <tr>\n",
       "      <th>40</th>\n",
       "      <td>11242018832180763020260361239607379697</td>\n",
       "      <td>PAID_SEATS</td>\n",
       "      <td>1</td>\n",
       "    </tr>\n",
       "    <tr>\n",
       "      <th>47</th>\n",
       "      <td>07662523923729159657921368516833077772</td>\n",
       "      <td>PAID_SEATS</td>\n",
       "      <td>1</td>\n",
       "    </tr>\n",
       "    <tr>\n",
       "      <th>...</th>\n",
       "      <td>...</td>\n",
       "      <td>...</td>\n",
       "      <td>...</td>\n",
       "    </tr>\n",
       "    <tr>\n",
       "      <th>6644051</th>\n",
       "      <td>89943537493867182013839041504651892613</td>\n",
       "      <td>BUSINESS_LOUNGE</td>\n",
       "      <td>1</td>\n",
       "    </tr>\n",
       "    <tr>\n",
       "      <th>6645630</th>\n",
       "      <td>42153779173031232751850709676330898211</td>\n",
       "      <td>BUSINESS_LOUNGE</td>\n",
       "      <td>1</td>\n",
       "    </tr>\n",
       "    <tr>\n",
       "      <th>6652101</th>\n",
       "      <td>89943537493867182013839041504651892613</td>\n",
       "      <td>BUSINESS_LOUNGE</td>\n",
       "      <td>1</td>\n",
       "    </tr>\n",
       "    <tr>\n",
       "      <th>6652493</th>\n",
       "      <td>42153779173031232751850709676330898211</td>\n",
       "      <td>BUSINESS_LOUNGE</td>\n",
       "      <td>1</td>\n",
       "    </tr>\n",
       "    <tr>\n",
       "      <th>6652500</th>\n",
       "      <td>69521945071387887702626963060120376279</td>\n",
       "      <td>BUSINESS_LOUNGE</td>\n",
       "      <td>1</td>\n",
       "    </tr>\n",
       "  </tbody>\n",
       "</table>\n",
       "<p>8240 rows × 3 columns</p>\n",
       "</div>"
      ],
      "text/plain": [
       "                                         userID           itemID  rating\n",
       "16       86513654906858836814951255651058285578       PAID_SEATS       1\n",
       "34       76228591696139306440880104031696963377       PAID_SEATS       1\n",
       "36       26925697700094090916284869761824808938       PAID_SEATS       1\n",
       "40       11242018832180763020260361239607379697       PAID_SEATS       1\n",
       "47       07662523923729159657921368516833077772       PAID_SEATS       1\n",
       "...                                         ...              ...     ...\n",
       "6644051  89943537493867182013839041504651892613  BUSINESS_LOUNGE       1\n",
       "6645630  42153779173031232751850709676330898211  BUSINESS_LOUNGE       1\n",
       "6652101  89943537493867182013839041504651892613  BUSINESS_LOUNGE       1\n",
       "6652493  42153779173031232751850709676330898211  BUSINESS_LOUNGE       1\n",
       "6652500  69521945071387887702626963060120376279  BUSINESS_LOUNGE       1\n",
       "\n",
       "[8240 rows x 3 columns]"
      ]
     },
     "execution_count": 467,
     "metadata": {},
     "output_type": "execute_result"
    }
   ],
   "source": [
    "bpr_long"
   ]
  },
  {
   "cell_type": "code",
   "execution_count": 468,
   "id": "17e699e6",
   "metadata": {},
   "outputs": [],
   "source": [
    "train, test = python_random_split(bpr_long, 0.75)"
   ]
  },
  {
   "cell_type": "code",
   "execution_count": 469,
   "id": "7840b860",
   "metadata": {},
   "outputs": [
    {
     "name": "stdout",
     "output_type": "stream",
     "text": [
      "Number of users: 3728\n",
      "Number of items: 6\n"
     ]
    },
    {
     "name": "stderr",
     "output_type": "stream",
     "text": [
      "C:\\Users\\User\\AppData\\Roaming\\Python\\Python312\\site-packages\\cornac\\data\\dataset.py:335: UserWarning: 1927 duplicated observations are removed!\n",
      "  warnings.warn(\"%d duplicated observations are removed!\" % dup_count)\n"
     ]
    }
   ],
   "source": [
    "train_set = cornac.data.Dataset.from_uir(train.itertuples(index=False), seed=SEED)\n",
    "\n",
    "print('Number of users: {}'.format(train_set.num_users))\n",
    "print('Number of items: {}'.format(train_set.num_items))"
   ]
  },
  {
   "cell_type": "code",
   "execution_count": 470,
   "id": "3127c9fc",
   "metadata": {},
   "outputs": [],
   "source": [
    "NUM_FACTORS = 200       # розмір латентного простору\n",
    "NUM_EPOCHS = 100        # кількість ітерацій SGD\n",
    "SEED = 42               # фіксація випадковості для відтворюваності"
   ]
  },
  {
   "cell_type": "code",
   "execution_count": 471,
   "id": "b11f1228",
   "metadata": {},
   "outputs": [],
   "source": [
    "bpr = cornac.models.BPR(\n",
    "    k=NUM_FACTORS,\n",
    "    max_iter=NUM_EPOCHS,\n",
    "    learning_rate=0.01,\n",
    "    lambda_reg=0.001,\n",
    "    verbose=True,\n",
    "    seed=SEED\n",
    ")"
   ]
  },
  {
   "cell_type": "code",
   "execution_count": 472,
   "id": "1788b673",
   "metadata": {},
   "outputs": [
    {
     "data": {
      "application/vnd.jupyter.widget-view+json": {
       "model_id": "14e26bae113a4e7d8c86b1458c57e1f4",
       "version_major": 2,
       "version_minor": 0
      },
      "text/plain": [
       "  0%|          | 0/100 [00:00<?, ?it/s]"
      ]
     },
     "metadata": {},
     "output_type": "display_data"
    },
    {
     "name": "stdout",
     "output_type": "stream",
     "text": [
      "Optimization finished!\n",
      "Took 0.3839 seconds for training.\n"
     ]
    }
   ],
   "source": [
    "with Timer() as t:\n",
    "    bpr.fit(train_set)\n",
    "print(\"Took {} seconds for training.\".format(t))"
   ]
  },
  {
   "cell_type": "code",
   "execution_count": 473,
   "id": "b22c3f1f",
   "metadata": {},
   "outputs": [
    {
     "name": "stdout",
     "output_type": "stream",
     "text": [
      "Took 0.0877 seconds for prediction.\n"
     ]
    }
   ],
   "source": [
    "with Timer() as t:\n",
    "    all_predictions = predict_ranking(bpr, train, usercol='userID', itemcol='itemID', remove_seen=True)\n",
    "print(\"Took {} seconds for prediction.\".format(t))"
   ]
  },
  {
   "cell_type": "code",
   "execution_count": 474,
   "id": "d6b6f06d",
   "metadata": {},
   "outputs": [
    {
     "data": {
      "text/html": [
       "<div>\n",
       "<style scoped>\n",
       "    .dataframe tbody tr th:only-of-type {\n",
       "        vertical-align: middle;\n",
       "    }\n",
       "\n",
       "    .dataframe tbody tr th {\n",
       "        vertical-align: top;\n",
       "    }\n",
       "\n",
       "    .dataframe thead th {\n",
       "        text-align: right;\n",
       "    }\n",
       "</style>\n",
       "<table border=\"1\" class=\"dataframe\">\n",
       "  <thead>\n",
       "    <tr style=\"text-align: right;\">\n",
       "      <th></th>\n",
       "      <th>userID</th>\n",
       "      <th>itemID</th>\n",
       "      <th>prediction</th>\n",
       "    </tr>\n",
       "  </thead>\n",
       "  <tbody>\n",
       "    <tr>\n",
       "      <th>0</th>\n",
       "      <td>00018144326187028341560824524042711867</td>\n",
       "      <td>BUSINESS_LOUNGE</td>\n",
       "      <td>-2.694772</td>\n",
       "    </tr>\n",
       "    <tr>\n",
       "      <th>1</th>\n",
       "      <td>00018144326187028341560824524042711867</td>\n",
       "      <td>EXTRA_BAGGAGE</td>\n",
       "      <td>-0.693697</td>\n",
       "    </tr>\n",
       "    <tr>\n",
       "      <th>3</th>\n",
       "      <td>00018144326187028341560824524042711867</td>\n",
       "      <td>ONBOARD_MEALS</td>\n",
       "      <td>-0.992418</td>\n",
       "    </tr>\n",
       "    <tr>\n",
       "      <th>4</th>\n",
       "      <td>00018144326187028341560824524042711867</td>\n",
       "      <td>PAID_SEATS</td>\n",
       "      <td>2.794400</td>\n",
       "    </tr>\n",
       "    <tr>\n",
       "      <th>5</th>\n",
       "      <td>00018144326187028341560824524042711867</td>\n",
       "      <td>SPECIAL_EQUIPMENT</td>\n",
       "      <td>-2.076022</td>\n",
       "    </tr>\n",
       "  </tbody>\n",
       "</table>\n",
       "</div>"
      ],
      "text/plain": [
       "                                   userID             itemID  prediction\n",
       "0  00018144326187028341560824524042711867    BUSINESS_LOUNGE   -2.694772\n",
       "1  00018144326187028341560824524042711867      EXTRA_BAGGAGE   -0.693697\n",
       "3  00018144326187028341560824524042711867      ONBOARD_MEALS   -0.992418\n",
       "4  00018144326187028341560824524042711867         PAID_SEATS    2.794400\n",
       "5  00018144326187028341560824524042711867  SPECIAL_EQUIPMENT   -2.076022"
      ]
     },
     "execution_count": 474,
     "metadata": {},
     "output_type": "execute_result"
    }
   ],
   "source": [
    "all_predictions.head()"
   ]
  },
  {
   "cell_type": "code",
   "execution_count": 479,
   "id": "3e1ec030",
   "metadata": {},
   "outputs": [
    {
     "name": "stdout",
     "output_type": "stream",
     "text": [
      "MAP:\t0.235209\n",
      "NDCG:\t0.113465\n",
      "Precision@K:\t0.031339\n",
      "Recall@K:\t0.267474\n"
     ]
    }
   ],
   "source": [
    "k = 10\n",
    "eval_map = map(test, all_predictions, col_prediction='prediction', k=k)\n",
    "eval_ndcg = ndcg_at_k(test, all_predictions, col_prediction='prediction', k=k)\n",
    "eval_precision = precision_at_k(test, all_predictions, col_prediction='prediction', k=k)\n",
    "eval_recall = recall_at_k(test, all_predictions, col_prediction='prediction', k=k)\n",
    "\n",
    "print(\"MAP:\\t%f\" % eval_map,\n",
    "      \"NDCG:\\t%f\" % eval_ndcg,\n",
    "      \"Precision@K:\\t%f\" % eval_precision,\n",
    "      \"Recall@K:\\t%f\" % eval_recall, sep='\\n')"
   ]
  },
  {
   "cell_type": "markdown",
   "id": "048e8c26",
   "metadata": {},
   "source": [
    "##### Modeling with BPR (count times of interactions echnique)"
   ]
  },
  {
   "cell_type": "code",
   "execution_count": 480,
   "id": "a73d04e6",
   "metadata": {},
   "outputs": [],
   "source": [
    "mul_bpr = bpr_long.copy()"
   ]
  },
  {
   "cell_type": "code",
   "execution_count": 481,
   "id": "6e9f57d5",
   "metadata": {},
   "outputs": [
    {
     "data": {
      "text/html": [
       "<div>\n",
       "<style scoped>\n",
       "    .dataframe tbody tr th:only-of-type {\n",
       "        vertical-align: middle;\n",
       "    }\n",
       "\n",
       "    .dataframe tbody tr th {\n",
       "        vertical-align: top;\n",
       "    }\n",
       "\n",
       "    .dataframe thead th {\n",
       "        text-align: right;\n",
       "    }\n",
       "</style>\n",
       "<table border=\"1\" class=\"dataframe\">\n",
       "  <thead>\n",
       "    <tr style=\"text-align: right;\">\n",
       "      <th></th>\n",
       "      <th>userID</th>\n",
       "      <th>itemID</th>\n",
       "      <th>rating</th>\n",
       "    </tr>\n",
       "  </thead>\n",
       "  <tbody>\n",
       "    <tr>\n",
       "      <th>16</th>\n",
       "      <td>86513654906858836814951255651058285578</td>\n",
       "      <td>PAID_SEATS</td>\n",
       "      <td>1</td>\n",
       "    </tr>\n",
       "    <tr>\n",
       "      <th>34</th>\n",
       "      <td>76228591696139306440880104031696963377</td>\n",
       "      <td>PAID_SEATS</td>\n",
       "      <td>1</td>\n",
       "    </tr>\n",
       "    <tr>\n",
       "      <th>36</th>\n",
       "      <td>26925697700094090916284869761824808938</td>\n",
       "      <td>PAID_SEATS</td>\n",
       "      <td>1</td>\n",
       "    </tr>\n",
       "    <tr>\n",
       "      <th>40</th>\n",
       "      <td>11242018832180763020260361239607379697</td>\n",
       "      <td>PAID_SEATS</td>\n",
       "      <td>1</td>\n",
       "    </tr>\n",
       "    <tr>\n",
       "      <th>47</th>\n",
       "      <td>07662523923729159657921368516833077772</td>\n",
       "      <td>PAID_SEATS</td>\n",
       "      <td>1</td>\n",
       "    </tr>\n",
       "    <tr>\n",
       "      <th>...</th>\n",
       "      <td>...</td>\n",
       "      <td>...</td>\n",
       "      <td>...</td>\n",
       "    </tr>\n",
       "    <tr>\n",
       "      <th>6644051</th>\n",
       "      <td>89943537493867182013839041504651892613</td>\n",
       "      <td>BUSINESS_LOUNGE</td>\n",
       "      <td>1</td>\n",
       "    </tr>\n",
       "    <tr>\n",
       "      <th>6645630</th>\n",
       "      <td>42153779173031232751850709676330898211</td>\n",
       "      <td>BUSINESS_LOUNGE</td>\n",
       "      <td>1</td>\n",
       "    </tr>\n",
       "    <tr>\n",
       "      <th>6652101</th>\n",
       "      <td>89943537493867182013839041504651892613</td>\n",
       "      <td>BUSINESS_LOUNGE</td>\n",
       "      <td>1</td>\n",
       "    </tr>\n",
       "    <tr>\n",
       "      <th>6652493</th>\n",
       "      <td>42153779173031232751850709676330898211</td>\n",
       "      <td>BUSINESS_LOUNGE</td>\n",
       "      <td>1</td>\n",
       "    </tr>\n",
       "    <tr>\n",
       "      <th>6652500</th>\n",
       "      <td>69521945071387887702626963060120376279</td>\n",
       "      <td>BUSINESS_LOUNGE</td>\n",
       "      <td>1</td>\n",
       "    </tr>\n",
       "  </tbody>\n",
       "</table>\n",
       "<p>8240 rows × 3 columns</p>\n",
       "</div>"
      ],
      "text/plain": [
       "                                         userID           itemID  rating\n",
       "16       86513654906858836814951255651058285578       PAID_SEATS       1\n",
       "34       76228591696139306440880104031696963377       PAID_SEATS       1\n",
       "36       26925697700094090916284869761824808938       PAID_SEATS       1\n",
       "40       11242018832180763020260361239607379697       PAID_SEATS       1\n",
       "47       07662523923729159657921368516833077772       PAID_SEATS       1\n",
       "...                                         ...              ...     ...\n",
       "6644051  89943537493867182013839041504651892613  BUSINESS_LOUNGE       1\n",
       "6645630  42153779173031232751850709676330898211  BUSINESS_LOUNGE       1\n",
       "6652101  89943537493867182013839041504651892613  BUSINESS_LOUNGE       1\n",
       "6652493  42153779173031232751850709676330898211  BUSINESS_LOUNGE       1\n",
       "6652500  69521945071387887702626963060120376279  BUSINESS_LOUNGE       1\n",
       "\n",
       "[8240 rows x 3 columns]"
      ]
     },
     "execution_count": 481,
     "metadata": {},
     "output_type": "execute_result"
    }
   ],
   "source": [
    "mul_bpr"
   ]
  },
  {
   "cell_type": "code",
   "execution_count": 482,
   "id": "f9232c0b",
   "metadata": {},
   "outputs": [],
   "source": [
    "# Only keep positive ratings\n",
    "mul_bpr = mul_bpr[bpr_long[\"rating\"] > 0]"
   ]
  },
  {
   "cell_type": "code",
   "execution_count": 483,
   "id": "999bf59a",
   "metadata": {},
   "outputs": [],
   "source": [
    "# Convert userID in string (Cornac requires it)\n",
    "mul_bpr[\"userID\"] = mul_bpr[\"userID\"].astype(str)"
   ]
  },
  {
   "cell_type": "code",
   "execution_count": 484,
   "id": "8f97cae5",
   "metadata": {},
   "outputs": [
    {
     "name": "stdout",
     "output_type": "stream",
     "text": [
      "<class 'pandas.core.frame.DataFrame'>\n",
      "Index: 8240 entries, 16 to 6652500\n",
      "Data columns (total 3 columns):\n",
      " #   Column  Non-Null Count  Dtype \n",
      "---  ------  --------------  ----- \n",
      " 0   userID  8240 non-null   object\n",
      " 1   itemID  8240 non-null   object\n",
      " 2   rating  8240 non-null   int64 \n",
      "dtypes: int64(1), object(2)\n",
      "memory usage: 257.5+ KB\n"
     ]
    }
   ],
   "source": [
    "mul_bpr.info()"
   ]
  },
  {
   "cell_type": "code",
   "execution_count": 485,
   "id": "a84c882f",
   "metadata": {},
   "outputs": [
    {
     "data": {
      "text/html": [
       "<div>\n",
       "<style scoped>\n",
       "    .dataframe tbody tr th:only-of-type {\n",
       "        vertical-align: middle;\n",
       "    }\n",
       "\n",
       "    .dataframe tbody tr th {\n",
       "        vertical-align: top;\n",
       "    }\n",
       "\n",
       "    .dataframe thead th {\n",
       "        text-align: right;\n",
       "    }\n",
       "</style>\n",
       "<table border=\"1\" class=\"dataframe\">\n",
       "  <thead>\n",
       "    <tr style=\"text-align: right;\">\n",
       "      <th></th>\n",
       "      <th>userID</th>\n",
       "      <th>itemID</th>\n",
       "      <th>rating</th>\n",
       "    </tr>\n",
       "  </thead>\n",
       "  <tbody>\n",
       "    <tr>\n",
       "      <th>0</th>\n",
       "      <td>00018144326187028341560824524042711867</td>\n",
       "      <td>FAST_TRACK</td>\n",
       "      <td>1</td>\n",
       "    </tr>\n",
       "    <tr>\n",
       "      <th>1</th>\n",
       "      <td>00052263349191245062082210035888704740</td>\n",
       "      <td>PAID_SEATS</td>\n",
       "      <td>2</td>\n",
       "    </tr>\n",
       "    <tr>\n",
       "      <th>2</th>\n",
       "      <td>00108287749788079103601416690698351493</td>\n",
       "      <td>PAID_SEATS</td>\n",
       "      <td>2</td>\n",
       "    </tr>\n",
       "    <tr>\n",
       "      <th>3</th>\n",
       "      <td>00119468372394589022085309109202745472</td>\n",
       "      <td>EXTRA_BAGGAGE</td>\n",
       "      <td>1</td>\n",
       "    </tr>\n",
       "    <tr>\n",
       "      <th>4</th>\n",
       "      <td>00125644831722302999031561193061259473</td>\n",
       "      <td>EXTRA_BAGGAGE</td>\n",
       "      <td>1</td>\n",
       "    </tr>\n",
       "    <tr>\n",
       "      <th>...</th>\n",
       "      <td>...</td>\n",
       "      <td>...</td>\n",
       "      <td>...</td>\n",
       "    </tr>\n",
       "    <tr>\n",
       "      <th>5335</th>\n",
       "      <td>92200217513321375451333500029254866641</td>\n",
       "      <td>PAID_SEATS</td>\n",
       "      <td>1</td>\n",
       "    </tr>\n",
       "    <tr>\n",
       "      <th>5336</th>\n",
       "      <td>92213873743303758742279321513483448605</td>\n",
       "      <td>EXTRA_BAGGAGE</td>\n",
       "      <td>1</td>\n",
       "    </tr>\n",
       "    <tr>\n",
       "      <th>5337</th>\n",
       "      <td>92213873743303758742279321513483448605</td>\n",
       "      <td>PAID_SEATS</td>\n",
       "      <td>1</td>\n",
       "    </tr>\n",
       "    <tr>\n",
       "      <th>5338</th>\n",
       "      <td>92214031300286259373510234220666798473</td>\n",
       "      <td>PAID_SEATS</td>\n",
       "      <td>2</td>\n",
       "    </tr>\n",
       "    <tr>\n",
       "      <th>5339</th>\n",
       "      <td>92218955318112362400345798422328641405</td>\n",
       "      <td>EXTRA_BAGGAGE</td>\n",
       "      <td>1</td>\n",
       "    </tr>\n",
       "  </tbody>\n",
       "</table>\n",
       "<p>5340 rows × 3 columns</p>\n",
       "</div>"
      ],
      "text/plain": [
       "                                      userID         itemID  rating\n",
       "0     00018144326187028341560824524042711867     FAST_TRACK       1\n",
       "1     00052263349191245062082210035888704740     PAID_SEATS       2\n",
       "2     00108287749788079103601416690698351493     PAID_SEATS       2\n",
       "3     00119468372394589022085309109202745472  EXTRA_BAGGAGE       1\n",
       "4     00125644831722302999031561193061259473  EXTRA_BAGGAGE       1\n",
       "...                                      ...            ...     ...\n",
       "5335  92200217513321375451333500029254866641     PAID_SEATS       1\n",
       "5336  92213873743303758742279321513483448605  EXTRA_BAGGAGE       1\n",
       "5337  92213873743303758742279321513483448605     PAID_SEATS       1\n",
       "5338  92214031300286259373510234220666798473     PAID_SEATS       2\n",
       "5339  92218955318112362400345798422328641405  EXTRA_BAGGAGE       1\n",
       "\n",
       "[5340 rows x 3 columns]"
      ]
     },
     "execution_count": 485,
     "metadata": {},
     "output_type": "execute_result"
    }
   ],
   "source": [
    "pd.reset_option('display.max_rows')\n",
    "\n",
    "user_item_counts = mul_bpr.groupby(['userID', 'itemID']).size().reset_index(name='rating')\n",
    "user_item_counts"
   ]
  },
  {
   "cell_type": "code",
   "execution_count": 486,
   "id": "8b90cbfd",
   "metadata": {},
   "outputs": [
    {
     "data": {
      "text/plain": [
       "array([  1,   2,   3,   7,   6,   9,   4,   5,  27,  17,  14,  15,  11,\n",
       "        62,  16,  21,  10,  13,  25,   8,  66,  12,  20,  30,  19,  18,\n",
       "       322], dtype=int64)"
      ]
     },
     "execution_count": 486,
     "metadata": {},
     "output_type": "execute_result"
    }
   ],
   "source": [
    "user_item_counts['rating'].unique()"
   ]
  },
  {
   "cell_type": "code",
   "execution_count": 487,
   "id": "94aa5571",
   "metadata": {},
   "outputs": [],
   "source": [
    "train_1, test_1 = python_random_split(user_item_counts, 0.75)"
   ]
  },
  {
   "cell_type": "code",
   "execution_count": 488,
   "id": "36e25206",
   "metadata": {},
   "outputs": [
    {
     "data": {
      "text/html": [
       "<div>\n",
       "<style scoped>\n",
       "    .dataframe tbody tr th:only-of-type {\n",
       "        vertical-align: middle;\n",
       "    }\n",
       "\n",
       "    .dataframe tbody tr th {\n",
       "        vertical-align: top;\n",
       "    }\n",
       "\n",
       "    .dataframe thead th {\n",
       "        text-align: right;\n",
       "    }\n",
       "</style>\n",
       "<table border=\"1\" class=\"dataframe\">\n",
       "  <thead>\n",
       "    <tr style=\"text-align: right;\">\n",
       "      <th></th>\n",
       "      <th>userID</th>\n",
       "      <th>itemID</th>\n",
       "      <th>rating</th>\n",
       "    </tr>\n",
       "  </thead>\n",
       "  <tbody>\n",
       "    <tr>\n",
       "      <th>152</th>\n",
       "      <td>02431517670268554470305605958526991221</td>\n",
       "      <td>PAID_SEATS</td>\n",
       "      <td>1</td>\n",
       "    </tr>\n",
       "    <tr>\n",
       "      <th>4885</th>\n",
       "      <td>84493545070298321981664829575623723124</td>\n",
       "      <td>EXTRA_BAGGAGE</td>\n",
       "      <td>2</td>\n",
       "    </tr>\n",
       "    <tr>\n",
       "      <th>2899</th>\n",
       "      <td>49255394194605261922379411000319487762</td>\n",
       "      <td>EXTRA_BAGGAGE</td>\n",
       "      <td>1</td>\n",
       "    </tr>\n",
       "    <tr>\n",
       "      <th>5009</th>\n",
       "      <td>86334007057579978401209180867642879620</td>\n",
       "      <td>PAID_SEATS</td>\n",
       "      <td>1</td>\n",
       "    </tr>\n",
       "    <tr>\n",
       "      <th>3941</th>\n",
       "      <td>67999514030559672702316810325415909421</td>\n",
       "      <td>PAID_SEATS</td>\n",
       "      <td>1</td>\n",
       "    </tr>\n",
       "    <tr>\n",
       "      <th>...</th>\n",
       "      <td>...</td>\n",
       "      <td>...</td>\n",
       "      <td>...</td>\n",
       "    </tr>\n",
       "    <tr>\n",
       "      <th>3092</th>\n",
       "      <td>52875757249300329152240399774466923798</td>\n",
       "      <td>PAID_SEATS</td>\n",
       "      <td>1</td>\n",
       "    </tr>\n",
       "    <tr>\n",
       "      <th>3772</th>\n",
       "      <td>64889228841640846013549633336822422451</td>\n",
       "      <td>EXTRA_BAGGAGE</td>\n",
       "      <td>1</td>\n",
       "    </tr>\n",
       "    <tr>\n",
       "      <th>5191</th>\n",
       "      <td>89615785269324605073328555404579208967</td>\n",
       "      <td>PAID_SEATS</td>\n",
       "      <td>1</td>\n",
       "    </tr>\n",
       "    <tr>\n",
       "      <th>5226</th>\n",
       "      <td>90160409479417649411999102181002937619</td>\n",
       "      <td>PAID_SEATS</td>\n",
       "      <td>1</td>\n",
       "    </tr>\n",
       "    <tr>\n",
       "      <th>860</th>\n",
       "      <td>14666162773536862480960382348728844224</td>\n",
       "      <td>PAID_SEATS</td>\n",
       "      <td>1</td>\n",
       "    </tr>\n",
       "  </tbody>\n",
       "</table>\n",
       "<p>4005 rows × 3 columns</p>\n",
       "</div>"
      ],
      "text/plain": [
       "                                      userID         itemID  rating\n",
       "152   02431517670268554470305605958526991221     PAID_SEATS       1\n",
       "4885  84493545070298321981664829575623723124  EXTRA_BAGGAGE       2\n",
       "2899  49255394194605261922379411000319487762  EXTRA_BAGGAGE       1\n",
       "5009  86334007057579978401209180867642879620     PAID_SEATS       1\n",
       "3941  67999514030559672702316810325415909421     PAID_SEATS       1\n",
       "...                                      ...            ...     ...\n",
       "3092  52875757249300329152240399774466923798     PAID_SEATS       1\n",
       "3772  64889228841640846013549633336822422451  EXTRA_BAGGAGE       1\n",
       "5191  89615785269324605073328555404579208967     PAID_SEATS       1\n",
       "5226  90160409479417649411999102181002937619     PAID_SEATS       1\n",
       "860   14666162773536862480960382348728844224     PAID_SEATS       1\n",
       "\n",
       "[4005 rows x 3 columns]"
      ]
     },
     "execution_count": 488,
     "metadata": {},
     "output_type": "execute_result"
    }
   ],
   "source": [
    "train_1"
   ]
  },
  {
   "cell_type": "code",
   "execution_count": 489,
   "id": "8d2a5fcb",
   "metadata": {},
   "outputs": [
    {
     "name": "stdout",
     "output_type": "stream",
     "text": [
      "Number of users: 3587\n",
      "Number of items: 6\n"
     ]
    }
   ],
   "source": [
    "train_set_1 = cornac.data.Dataset.from_uir(train_1.itertuples(index=False), seed=SEED)\n",
    "\n",
    "print('Number of users: {}'.format(train_set_1.num_users))\n",
    "print('Number of items: {}'.format(train_set_1.num_items))"
   ]
  },
  {
   "cell_type": "code",
   "execution_count": 490,
   "id": "f09c3254",
   "metadata": {},
   "outputs": [
    {
     "data": {
      "text/plain": [
       "<cornac.data.dataset.Dataset at 0x21ccb105e50>"
      ]
     },
     "execution_count": 490,
     "metadata": {},
     "output_type": "execute_result"
    }
   ],
   "source": [
    "train_set_1 "
   ]
  },
  {
   "cell_type": "code",
   "execution_count": 491,
   "id": "1886f401",
   "metadata": {},
   "outputs": [],
   "source": [
    "# Задаємо параметри моделі\n",
    "NUM_FACTORS = 200\n",
    "NUM_EPOCHS = 100\n",
    "SEED = 42\n",
    "\n",
    "# Ініціалізація моделі\n",
    "bpr = BPR(\n",
    "    k=NUM_FACTORS,\n",
    "    max_iter=NUM_EPOCHS,\n",
    "    learning_rate=0.01,\n",
    "    lambda_reg=0.001,\n",
    "    verbose=True,\n",
    "    seed=SEED\n",
    ")"
   ]
  },
  {
   "cell_type": "code",
   "execution_count": 492,
   "id": "455f3010",
   "metadata": {},
   "outputs": [
    {
     "data": {
      "application/vnd.jupyter.widget-view+json": {
       "model_id": "e92bb85337b54374889544cd3aefda35",
       "version_major": 2,
       "version_minor": 0
      },
      "text/plain": [
       "  0%|          | 0/100 [00:00<?, ?it/s]"
      ]
     },
     "metadata": {},
     "output_type": "display_data"
    },
    {
     "name": "stdout",
     "output_type": "stream",
     "text": [
      "Optimization finished!\n",
      "Took 0.3519 seconds for training.\n"
     ]
    }
   ],
   "source": [
    "with Timer() as t:\n",
    "    bpr.fit(train_set_1)\n",
    "print(\"Took {} seconds for training.\".format(t))"
   ]
  },
  {
   "cell_type": "code",
   "execution_count": 493,
   "id": "77e63c9b",
   "metadata": {},
   "outputs": [
    {
     "name": "stdout",
     "output_type": "stream",
     "text": [
      "Took 0.0709 seconds for prediction.\n"
     ]
    }
   ],
   "source": [
    "with Timer() as t:\n",
    "    all_predictions_1 = predict_ranking(bpr, train_1, usercol='userID', itemcol='itemID', remove_seen=True)\n",
    "print(\"Took {} seconds for prediction.\".format(t))"
   ]
  },
  {
   "cell_type": "code",
   "execution_count": 494,
   "id": "400452ce",
   "metadata": {},
   "outputs": [
    {
     "data": {
      "text/html": [
       "<div>\n",
       "<style scoped>\n",
       "    .dataframe tbody tr th:only-of-type {\n",
       "        vertical-align: middle;\n",
       "    }\n",
       "\n",
       "    .dataframe tbody tr th {\n",
       "        vertical-align: top;\n",
       "    }\n",
       "\n",
       "    .dataframe thead th {\n",
       "        text-align: right;\n",
       "    }\n",
       "</style>\n",
       "<table border=\"1\" class=\"dataframe\">\n",
       "  <thead>\n",
       "    <tr style=\"text-align: right;\">\n",
       "      <th></th>\n",
       "      <th>userID</th>\n",
       "      <th>itemID</th>\n",
       "      <th>prediction</th>\n",
       "    </tr>\n",
       "  </thead>\n",
       "  <tbody>\n",
       "    <tr>\n",
       "      <th>0</th>\n",
       "      <td>00018144326187028341560824524042711867</td>\n",
       "      <td>BUSINESS_LOUNGE</td>\n",
       "      <td>-2.807282</td>\n",
       "    </tr>\n",
       "    <tr>\n",
       "      <th>1</th>\n",
       "      <td>00018144326187028341560824524042711867</td>\n",
       "      <td>EXTRA_BAGGAGE</td>\n",
       "      <td>0.019076</td>\n",
       "    </tr>\n",
       "    <tr>\n",
       "      <th>3</th>\n",
       "      <td>00018144326187028341560824524042711867</td>\n",
       "      <td>ONBOARD_MEALS</td>\n",
       "      <td>-1.218242</td>\n",
       "    </tr>\n",
       "    <tr>\n",
       "      <th>4</th>\n",
       "      <td>00018144326187028341560824524042711867</td>\n",
       "      <td>PAID_SEATS</td>\n",
       "      <td>2.369949</td>\n",
       "    </tr>\n",
       "    <tr>\n",
       "      <th>5</th>\n",
       "      <td>00018144326187028341560824524042711867</td>\n",
       "      <td>SPECIAL_EQUIPMENT</td>\n",
       "      <td>-1.962404</td>\n",
       "    </tr>\n",
       "  </tbody>\n",
       "</table>\n",
       "</div>"
      ],
      "text/plain": [
       "                                   userID             itemID  prediction\n",
       "0  00018144326187028341560824524042711867    BUSINESS_LOUNGE   -2.807282\n",
       "1  00018144326187028341560824524042711867      EXTRA_BAGGAGE    0.019076\n",
       "3  00018144326187028341560824524042711867      ONBOARD_MEALS   -1.218242\n",
       "4  00018144326187028341560824524042711867         PAID_SEATS    2.369949\n",
       "5  00018144326187028341560824524042711867  SPECIAL_EQUIPMENT   -1.962404"
      ]
     },
     "execution_count": 494,
     "metadata": {},
     "output_type": "execute_result"
    }
   ],
   "source": [
    "all_predictions_1.head()"
   ]
  },
  {
   "cell_type": "code",
   "execution_count": 495,
   "id": "32a33752",
   "metadata": {},
   "outputs": [
    {
     "name": "stdout",
     "output_type": "stream",
     "text": [
      "MAP:\t0.744848\n",
      "NDCG:\t0.164577\n",
      "Precision@K:\t0.763636\n",
      "Recall@K:\t0.744848\n"
     ]
    }
   ],
   "source": [
    "k = 1\n",
    "eval_map_1 = map(test_1, all_predictions_1, col_prediction='prediction', k=k)\n",
    "eval_ndcg_1 = ndcg_at_k(test_1, all_predictions_1, col_prediction='prediction', k=k)\n",
    "eval_precision_1 = precision_at_k(test_1, all_predictions_1, col_prediction='prediction', k=k)\n",
    "eval_recall_1 = recall_at_k(test_1, all_predictions_1, col_prediction='prediction', k=k)\n",
    "\n",
    "print(\"MAP:\\t%f\" % eval_map_1,\n",
    "      \"NDCG:\\t%f\" % eval_ndcg_1,\n",
    "      \"Precision@K:\\t%f\" % eval_precision_1,\n",
    "      \"Recall@K:\\t%f\" % eval_recall_1, sep='\\n')"
   ]
  },
  {
   "cell_type": "code",
   "execution_count": 496,
   "id": "3e969c37",
   "metadata": {},
   "outputs": [],
   "source": [
    "from sklearn.metrics import precision_score, recall_score, f1_score, roc_auc_score\n",
    "\n",
    "# Перелік сервісів (таргетних змінних)\n",
    "services = ['PAID_SEATS', 'ONBOARD_MEALS', 'EXTRA_BAGGAGE', 'BUSINESS_LOUNGE', 'SPECIAL_EQUIPMENT', 'FAST_TRACK']\n",
    "\n",
    "# Створимо список для збереження результатів\n",
    "service_metrics = []\n",
    "\n",
    "# Перетворимо тест і передбачення на словники для зручності доступу\n",
    "gt = test_1.groupby('userID')['itemID'].apply(set).to_dict()\n",
    "pred = all_predictions_1.groupby('userID')['itemID'].apply(list).to_dict()"
   ]
  },
  {
   "cell_type": "code",
   "execution_count": 497,
   "id": "dbc67283",
   "metadata": {},
   "outputs": [],
   "source": [
    "# Обчислення метрик по кожному сервісу\n",
    "for service in services:\n",
    "    y_true = []\n",
    "    y_pred = []\n",
    "\n",
    "    for user in gt.keys():\n",
    "        y_true.append(1 if service in gt[user] else 0)\n",
    "        y_pred.append(1 if service in pred.get(user, []) else 0)\n",
    "\n",
    "    precision = precision_score(y_true, y_pred, zero_division=0)\n",
    "    recall = recall_score(y_true, y_pred, zero_division=0)\n",
    "    f1 = f1_score(y_true, y_pred, zero_division=0)\n",
    "\n",
    "    try:\n",
    "        auc = roc_auc_score(y_true, y_pred)\n",
    "    except ValueError:\n",
    "        auc = float('nan')  # якщо тільки один клас\n",
    "\n",
    "    service_metrics.append({\n",
    "        'Ancillary Service': service,\n",
    "        'Precision': precision,\n",
    "        'Recall': recall,\n",
    "        'F1-Score': f1,\n",
    "        'AUC-ROC': auc\n",
    "    })"
   ]
  },
  {
   "cell_type": "code",
   "execution_count": 498,
   "id": "21558522",
   "metadata": {},
   "outputs": [
    {
     "data": {
      "text/plain": [
       "[{'Ancillary Service': 'PAID_SEATS',\n",
       "  'Precision': 0.8888888888888888,\n",
       "  'Recall': 0.13793103448275862,\n",
       "  'F1-Score': 0.23880597014925373,\n",
       "  'AUC-ROC': 0.5538793103448276},\n",
       " {'Ancillary Service': 'ONBOARD_MEALS',\n",
       "  'Precision': 0.08870967741935484,\n",
       "  'Recall': 0.34375,\n",
       "  'F1-Score': 0.14102564102564102,\n",
       "  'AUC-ROC': 0.5786406765676567},\n",
       " {'Ancillary Service': 'EXTRA_BAGGAGE',\n",
       "  'Precision': 0.5161290322580645,\n",
       "  'Recall': 0.2719546742209632,\n",
       "  'F1-Score': 0.3562152133580705,\n",
       "  'AUC-ROC': 0.5872232742719117},\n",
       " {'Ancillary Service': 'BUSINESS_LOUNGE',\n",
       "  'Precision': 0.007380073800738007,\n",
       "  'Recall': 0.6666666666666666,\n",
       "  'F1-Score': 0.014598540145985401,\n",
       "  'AUC-ROC': 0.7276774024613772},\n",
       " {'Ancillary Service': 'SPECIAL_EQUIPMENT',\n",
       "  'Precision': 0.029850746268656716,\n",
       "  'Recall': 0.47058823529411764,\n",
       "  'F1-Score': 0.056140350877192984,\n",
       "  'AUC-ROC': 0.6320375648273607},\n",
       " {'Ancillary Service': 'FAST_TRACK',\n",
       "  'Precision': 0.19574468085106383,\n",
       "  'Recall': 0.5348837209302325,\n",
       "  'F1-Score': 0.2866043613707165,\n",
       "  'AUC-ROC': 0.688030095759234}]"
      ]
     },
     "execution_count": 498,
     "metadata": {},
     "output_type": "execute_result"
    }
   ],
   "source": [
    "service_metrics"
   ]
  },
  {
   "cell_type": "code",
   "execution_count": 499,
   "id": "282d42df",
   "metadata": {},
   "outputs": [
    {
     "data": {
      "image/png": "[encoded data removed]",
      "text/plain": [
       "<Figure size 1200x600 with 1 Axes>"
      ]
     },
     "metadata": {},
     "output_type": "display_data"
    }
   ],
   "source": [
    "import matplotlib.pyplot as plt\n",
    "import pandas as pd\n",
    "\n",
    "# Перетворюємо список результатів у DataFrame\n",
    "df_metrics = pd.DataFrame(service_metrics)\n",
    "\n",
    "# Побудова графіка\n",
    "metrics = ['Precision', 'Recall', 'F1-Score', 'AUC-ROC']\n",
    "fig, ax = plt.subplots(figsize=(12, 6))\n",
    "\n",
    "for metric in metrics:\n",
    "    ax.plot(df_metrics['Ancillary Service'], df_metrics[metric], marker='o', label=metric)\n",
    "\n",
    "ax.set_title('Evaluation Metrics per Ancillary Service')\n",
    "ax.set_ylabel('Score')\n",
    "ax.set_ylim(0, 1)\n",
    "ax.legend()\n",
    "ax.grid(True)\n",
    "plt.xticks(rotation=45)\n",
    "plt.tight_layout()\n",
    "plt.show()\n"
   ]
  },
  {
   "cell_type": "markdown",
   "id": "46364189",
   "metadata": {},
   "source": [
    "##### Tuning BPR"
   ]
  },
  {
   "cell_type": "code",
   "execution_count": 500,
   "id": "4502fa06",
   "metadata": {},
   "outputs": [],
   "source": [
    "mul_bpr_tun = bpr_long.copy()"
   ]
  },
  {
   "cell_type": "code",
   "execution_count": 501,
   "id": "85a62011",
   "metadata": {},
   "outputs": [
    {
     "data": {
      "text/html": [
       "<div>\n",
       "<style scoped>\n",
       "    .dataframe tbody tr th:only-of-type {\n",
       "        vertical-align: middle;\n",
       "    }\n",
       "\n",
       "    .dataframe tbody tr th {\n",
       "        vertical-align: top;\n",
       "    }\n",
       "\n",
       "    .dataframe thead th {\n",
       "        text-align: right;\n",
       "    }\n",
       "</style>\n",
       "<table border=\"1\" class=\"dataframe\">\n",
       "  <thead>\n",
       "    <tr style=\"text-align: right;\">\n",
       "      <th></th>\n",
       "      <th>userID</th>\n",
       "      <th>itemID</th>\n",
       "      <th>rating</th>\n",
       "    </tr>\n",
       "  </thead>\n",
       "  <tbody>\n",
       "    <tr>\n",
       "      <th>16</th>\n",
       "      <td>86513654906858836814951255651058285578</td>\n",
       "      <td>PAID_SEATS</td>\n",
       "      <td>1</td>\n",
       "    </tr>\n",
       "    <tr>\n",
       "      <th>34</th>\n",
       "      <td>76228591696139306440880104031696963377</td>\n",
       "      <td>PAID_SEATS</td>\n",
       "      <td>1</td>\n",
       "    </tr>\n",
       "    <tr>\n",
       "      <th>36</th>\n",
       "      <td>26925697700094090916284869761824808938</td>\n",
       "      <td>PAID_SEATS</td>\n",
       "      <td>1</td>\n",
       "    </tr>\n",
       "    <tr>\n",
       "      <th>40</th>\n",
       "      <td>11242018832180763020260361239607379697</td>\n",
       "      <td>PAID_SEATS</td>\n",
       "      <td>1</td>\n",
       "    </tr>\n",
       "    <tr>\n",
       "      <th>47</th>\n",
       "      <td>07662523923729159657921368516833077772</td>\n",
       "      <td>PAID_SEATS</td>\n",
       "      <td>1</td>\n",
       "    </tr>\n",
       "    <tr>\n",
       "      <th>...</th>\n",
       "      <td>...</td>\n",
       "      <td>...</td>\n",
       "      <td>...</td>\n",
       "    </tr>\n",
       "    <tr>\n",
       "      <th>6644051</th>\n",
       "      <td>89943537493867182013839041504651892613</td>\n",
       "      <td>BUSINESS_LOUNGE</td>\n",
       "      <td>1</td>\n",
       "    </tr>\n",
       "    <tr>\n",
       "      <th>6645630</th>\n",
       "      <td>42153779173031232751850709676330898211</td>\n",
       "      <td>BUSINESS_LOUNGE</td>\n",
       "      <td>1</td>\n",
       "    </tr>\n",
       "    <tr>\n",
       "      <th>6652101</th>\n",
       "      <td>89943537493867182013839041504651892613</td>\n",
       "      <td>BUSINESS_LOUNGE</td>\n",
       "      <td>1</td>\n",
       "    </tr>\n",
       "    <tr>\n",
       "      <th>6652493</th>\n",
       "      <td>42153779173031232751850709676330898211</td>\n",
       "      <td>BUSINESS_LOUNGE</td>\n",
       "      <td>1</td>\n",
       "    </tr>\n",
       "    <tr>\n",
       "      <th>6652500</th>\n",
       "      <td>69521945071387887702626963060120376279</td>\n",
       "      <td>BUSINESS_LOUNGE</td>\n",
       "      <td>1</td>\n",
       "    </tr>\n",
       "  </tbody>\n",
       "</table>\n",
       "<p>8240 rows × 3 columns</p>\n",
       "</div>"
      ],
      "text/plain": [
       "                                         userID           itemID  rating\n",
       "16       86513654906858836814951255651058285578       PAID_SEATS       1\n",
       "34       76228591696139306440880104031696963377       PAID_SEATS       1\n",
       "36       26925697700094090916284869761824808938       PAID_SEATS       1\n",
       "40       11242018832180763020260361239607379697       PAID_SEATS       1\n",
       "47       07662523923729159657921368516833077772       PAID_SEATS       1\n",
       "...                                         ...              ...     ...\n",
       "6644051  89943537493867182013839041504651892613  BUSINESS_LOUNGE       1\n",
       "6645630  42153779173031232751850709676330898211  BUSINESS_LOUNGE       1\n",
       "6652101  89943537493867182013839041504651892613  BUSINESS_LOUNGE       1\n",
       "6652493  42153779173031232751850709676330898211  BUSINESS_LOUNGE       1\n",
       "6652500  69521945071387887702626963060120376279  BUSINESS_LOUNGE       1\n",
       "\n",
       "[8240 rows x 3 columns]"
      ]
     },
     "execution_count": 501,
     "metadata": {},
     "output_type": "execute_result"
    }
   ],
   "source": [
    "mul_bpr_tun"
   ]
  },
  {
   "cell_type": "code",
   "execution_count": 502,
   "id": "b28baf7f",
   "metadata": {},
   "outputs": [],
   "source": [
    "# Convert userID in string (Cornac requires it)\n",
    "mul_bpr_tun[\"userID\"] = mul_bpr_tun[\"userID\"].astype(str)"
   ]
  },
  {
   "cell_type": "code",
   "execution_count": 503,
   "id": "f0f7722c",
   "metadata": {},
   "outputs": [
    {
     "data": {
      "text/html": [
       "<div>\n",
       "<style scoped>\n",
       "    .dataframe tbody tr th:only-of-type {\n",
       "        vertical-align: middle;\n",
       "    }\n",
       "\n",
       "    .dataframe tbody tr th {\n",
       "        vertical-align: top;\n",
       "    }\n",
       "\n",
       "    .dataframe thead th {\n",
       "        text-align: right;\n",
       "    }\n",
       "</style>\n",
       "<table border=\"1\" class=\"dataframe\">\n",
       "  <thead>\n",
       "    <tr style=\"text-align: right;\">\n",
       "      <th></th>\n",
       "      <th>userID</th>\n",
       "      <th>itemID</th>\n",
       "      <th>rating</th>\n",
       "    </tr>\n",
       "  </thead>\n",
       "  <tbody>\n",
       "    <tr>\n",
       "      <th>0</th>\n",
       "      <td>00018144326187028341560824524042711867</td>\n",
       "      <td>FAST_TRACK</td>\n",
       "      <td>1</td>\n",
       "    </tr>\n",
       "    <tr>\n",
       "      <th>1</th>\n",
       "      <td>00052263349191245062082210035888704740</td>\n",
       "      <td>PAID_SEATS</td>\n",
       "      <td>2</td>\n",
       "    </tr>\n",
       "    <tr>\n",
       "      <th>2</th>\n",
       "      <td>00108287749788079103601416690698351493</td>\n",
       "      <td>PAID_SEATS</td>\n",
       "      <td>2</td>\n",
       "    </tr>\n",
       "    <tr>\n",
       "      <th>3</th>\n",
       "      <td>00119468372394589022085309109202745472</td>\n",
       "      <td>EXTRA_BAGGAGE</td>\n",
       "      <td>1</td>\n",
       "    </tr>\n",
       "    <tr>\n",
       "      <th>4</th>\n",
       "      <td>00125644831722302999031561193061259473</td>\n",
       "      <td>EXTRA_BAGGAGE</td>\n",
       "      <td>1</td>\n",
       "    </tr>\n",
       "    <tr>\n",
       "      <th>...</th>\n",
       "      <td>...</td>\n",
       "      <td>...</td>\n",
       "      <td>...</td>\n",
       "    </tr>\n",
       "    <tr>\n",
       "      <th>5335</th>\n",
       "      <td>92200217513321375451333500029254866641</td>\n",
       "      <td>PAID_SEATS</td>\n",
       "      <td>1</td>\n",
       "    </tr>\n",
       "    <tr>\n",
       "      <th>5336</th>\n",
       "      <td>92213873743303758742279321513483448605</td>\n",
       "      <td>EXTRA_BAGGAGE</td>\n",
       "      <td>1</td>\n",
       "    </tr>\n",
       "    <tr>\n",
       "      <th>5337</th>\n",
       "      <td>92213873743303758742279321513483448605</td>\n",
       "      <td>PAID_SEATS</td>\n",
       "      <td>1</td>\n",
       "    </tr>\n",
       "    <tr>\n",
       "      <th>5338</th>\n",
       "      <td>92214031300286259373510234220666798473</td>\n",
       "      <td>PAID_SEATS</td>\n",
       "      <td>2</td>\n",
       "    </tr>\n",
       "    <tr>\n",
       "      <th>5339</th>\n",
       "      <td>92218955318112362400345798422328641405</td>\n",
       "      <td>EXTRA_BAGGAGE</td>\n",
       "      <td>1</td>\n",
       "    </tr>\n",
       "  </tbody>\n",
       "</table>\n",
       "<p>5340 rows × 3 columns</p>\n",
       "</div>"
      ],
      "text/plain": [
       "                                      userID         itemID  rating\n",
       "0     00018144326187028341560824524042711867     FAST_TRACK       1\n",
       "1     00052263349191245062082210035888704740     PAID_SEATS       2\n",
       "2     00108287749788079103601416690698351493     PAID_SEATS       2\n",
       "3     00119468372394589022085309109202745472  EXTRA_BAGGAGE       1\n",
       "4     00125644831722302999031561193061259473  EXTRA_BAGGAGE       1\n",
       "...                                      ...            ...     ...\n",
       "5335  92200217513321375451333500029254866641     PAID_SEATS       1\n",
       "5336  92213873743303758742279321513483448605  EXTRA_BAGGAGE       1\n",
       "5337  92213873743303758742279321513483448605     PAID_SEATS       1\n",
       "5338  92214031300286259373510234220666798473     PAID_SEATS       2\n",
       "5339  92218955318112362400345798422328641405  EXTRA_BAGGAGE       1\n",
       "\n",
       "[5340 rows x 3 columns]"
      ]
     },
     "execution_count": 503,
     "metadata": {},
     "output_type": "execute_result"
    }
   ],
   "source": [
    "mul_bpr_tun_group = mul_bpr_tun.groupby(['userID', 'itemID']).size().reset_index(name='rating')\n",
    "mul_bpr_tun_group"
   ]
  },
  {
   "cell_type": "code",
   "execution_count": 504,
   "id": "6cfbd2b0",
   "metadata": {},
   "outputs": [],
   "source": [
    "train_val, test_tun = python_random_split(user_item_counts, 0.8, seed=SEED)"
   ]
  },
  {
   "cell_type": "code",
   "execution_count": 505,
   "id": "a4ae6538",
   "metadata": {},
   "outputs": [],
   "source": [
    "train_tun, val_tun = python_random_split(train_val, 0.8, seed=SEED)"
   ]
  },
  {
   "cell_type": "code",
   "execution_count": 334,
   "id": "4b1338aa",
   "metadata": {},
   "outputs": [
    {
     "name": "stdout",
     "output_type": "stream",
     "text": [
      "<class 'pandas.core.frame.DataFrame'>\n",
      "Index: 3417 entries, 2628 to 1551\n",
      "Data columns (total 3 columns):\n",
      " #   Column  Non-Null Count  Dtype \n",
      "---  ------  --------------  ----- \n",
      " 0   userID  3417 non-null   object\n",
      " 1   itemID  3417 non-null   object\n",
      " 2   rating  3417 non-null   int64 \n",
      "dtypes: int64(1), object(2)\n",
      "memory usage: 106.8+ KB\n"
     ]
    }
   ],
   "source": [
    "train_tun.info()"
   ]
  },
  {
   "cell_type": "code",
   "execution_count": 335,
   "id": "e867059f",
   "metadata": {},
   "outputs": [
    {
     "name": "stdout",
     "output_type": "stream",
     "text": [
      "<class 'pandas.core.frame.DataFrame'>\n",
      "Index: 855 entries, 2692 to 830\n",
      "Data columns (total 3 columns):\n",
      " #   Column  Non-Null Count  Dtype \n",
      "---  ------  --------------  ----- \n",
      " 0   userID  855 non-null    object\n",
      " 1   itemID  855 non-null    object\n",
      " 2   rating  855 non-null    int64 \n",
      "dtypes: int64(1), object(2)\n",
      "memory usage: 26.7+ KB\n"
     ]
    }
   ],
   "source": [
    "val_tun.info()"
   ]
  },
  {
   "cell_type": "code",
   "execution_count": 336,
   "id": "12c4543d",
   "metadata": {},
   "outputs": [
    {
     "name": "stdout",
     "output_type": "stream",
     "text": [
      "<class 'pandas.core.frame.DataFrame'>\n",
      "Index: 1068 entries, 3365 to 1371\n",
      "Data columns (total 3 columns):\n",
      " #   Column  Non-Null Count  Dtype \n",
      "---  ------  --------------  ----- \n",
      " 0   userID  1068 non-null   object\n",
      " 1   itemID  1068 non-null   object\n",
      " 2   rating  1068 non-null   int64 \n",
      "dtypes: int64(1), object(2)\n",
      "memory usage: 33.4+ KB\n"
     ]
    }
   ],
   "source": [
    "test_tun.info()"
   ]
  },
  {
   "cell_type": "code",
   "execution_count": 506,
   "id": "a703ab7b",
   "metadata": {},
   "outputs": [],
   "source": [
    "from cornac.data import Dataset\n",
    "\n",
    "train_tun_c = Dataset.from_uir(train_tun.itertuples(index=False), seed=SEED)\n",
    "val_tun_c = Dataset.from_uir(val_tun.itertuples(index=False), seed=SEED)\n",
    "test_tun_c = Dataset.from_uir(test_tun.itertuples(index=False), seed=SEED)"
   ]
  },
  {
   "cell_type": "code",
   "execution_count": 521,
   "id": "a5ca3be2",
   "metadata": {},
   "outputs": [],
   "source": [
    "from cornac.eval_methods import BaseMethod\n",
    "\n",
    "train_data = list(train_tun.itertuples(index=False, name=None))\n",
    "test_data = list(val_tun.itertuples(index=False, name=None))\n",
    "\n",
    "eval_method = BaseMethod.from_splits(\n",
    "    train_data=train_data,\n",
    "    test_data=test_data,\n",
    "    fmt='UIR',\n",
    "    rating_threshold=1,\n",
    "    seed=SEED\n",
    ")"
   ]
  },
  {
   "cell_type": "code",
   "execution_count": 526,
   "id": "ce967882",
   "metadata": {},
   "outputs": [
    {
     "name": "stdout",
     "output_type": "stream",
     "text": [
      "🔧 Тест: k=10, lr=0.005, reg=0.001, iter=50\n",
      "\n",
      "TEST:\n",
      "...\n",
      "    | Recall@3 | Train (s) | Test (s)\n",
      "--- + -------- + --------- + --------\n",
      "BPR |   0.9627 |    0.0153 |   0.2388\n",
      "\n",
      "🔧 Тест: k=10, lr=0.005, reg=0.001, iter=100\n",
      "\n",
      "TEST:\n",
      "...\n",
      "    | Recall@3 | Train (s) | Test (s)\n",
      "--- + -------- + --------- + --------\n",
      "BPR |   0.9627 |    0.0262 |   0.1057\n",
      "\n",
      "🔧 Тест: k=10, lr=0.005, reg=0.01, iter=50\n",
      "\n",
      "TEST:\n",
      "...\n",
      "    | Recall@3 | Train (s) | Test (s)\n",
      "--- + -------- + --------- + --------\n",
      "BPR |   0.9627 |    0.0144 |   0.1025\n",
      "\n",
      "🔧 Тест: k=10, lr=0.005, reg=0.01, iter=100\n",
      "\n",
      "TEST:\n",
      "...\n",
      "    | Recall@3 | Train (s) | Test (s)\n",
      "--- + -------- + --------- + --------\n",
      "BPR |   0.9627 |    0.0272 |   0.1025\n",
      "\n",
      "🔧 Тест: k=10, lr=0.01, reg=0.001, iter=50\n",
      "\n",
      "TEST:\n",
      "...\n",
      "    | Recall@3 | Train (s) | Test (s)\n",
      "--- + -------- + --------- + --------\n",
      "BPR |   0.9627 |    0.0152 |   0.1053\n",
      "\n",
      "🔧 Тест: k=10, lr=0.01, reg=0.001, iter=100\n",
      "\n",
      "TEST:\n",
      "...\n",
      "    | Recall@3 | Train (s) | Test (s)\n",
      "--- + -------- + --------- + --------\n",
      "BPR |   0.9602 |    0.0265 |   0.1013\n",
      "\n",
      "🔧 Тест: k=10, lr=0.01, reg=0.01, iter=50\n",
      "\n",
      "TEST:\n",
      "...\n",
      "    | Recall@3 | Train (s) | Test (s)\n",
      "--- + -------- + --------- + --------\n",
      "BPR |   0.9627 |    0.0149 |   0.1031\n",
      "\n",
      "🔧 Тест: k=10, lr=0.01, reg=0.01, iter=100\n",
      "\n",
      "TEST:\n",
      "...\n",
      "    | Recall@3 | Train (s) | Test (s)\n",
      "--- + -------- + --------- + --------\n",
      "BPR |   0.9627 |    0.0268 |   0.1017\n",
      "\n",
      "🔧 Тест: k=50, lr=0.005, reg=0.001, iter=50\n",
      "\n",
      "TEST:\n",
      "...\n",
      "    | Recall@3 | Train (s) | Test (s)\n",
      "--- + -------- + --------- + --------\n",
      "BPR |   0.9627 |    0.0322 |   0.1045\n",
      "\n",
      "🔧 Тест: k=50, lr=0.005, reg=0.001, iter=100\n",
      "\n",
      "TEST:\n",
      "...\n",
      "    | Recall@3 | Train (s) | Test (s)\n",
      "--- + -------- + --------- + --------\n",
      "BPR |   0.9627 |    0.0651 |   0.1221\n",
      "\n",
      "🔧 Тест: k=50, lr=0.005, reg=0.01, iter=50\n",
      "\n",
      "TEST:\n",
      "...\n",
      "    | Recall@3 | Train (s) | Test (s)\n",
      "--- + -------- + --------- + --------\n",
      "BPR |   0.9627 |    0.0334 |   0.1027\n",
      "\n",
      "🔧 Тест: k=50, lr=0.005, reg=0.01, iter=100\n",
      "\n",
      "TEST:\n",
      "...\n",
      "    | Recall@3 | Train (s) | Test (s)\n",
      "--- + -------- + --------- + --------\n",
      "BPR |   0.9627 |    0.0616 |   0.1046\n",
      "\n",
      "🔧 Тест: k=50, lr=0.01, reg=0.001, iter=50\n",
      "\n",
      "TEST:\n",
      "...\n",
      "    | Recall@3 | Train (s) | Test (s)\n",
      "--- + -------- + --------- + --------\n",
      "BPR |   0.9627 |    0.0365 |   0.1220\n",
      "\n",
      "🔧 Тест: k=50, lr=0.01, reg=0.001, iter=100\n",
      "\n",
      "TEST:\n",
      "...\n",
      "    | Recall@3 | Train (s) | Test (s)\n",
      "--- + -------- + --------- + --------\n",
      "BPR |   0.9614 |    0.0643 |   0.1009\n",
      "\n",
      "🔧 Тест: k=50, lr=0.01, reg=0.01, iter=50\n",
      "\n",
      "TEST:\n",
      "...\n",
      "    | Recall@3 | Train (s) | Test (s)\n",
      "--- + -------- + --------- + --------\n",
      "BPR |   0.9627 |    0.0333 |   0.1049\n",
      "\n",
      "🔧 Тест: k=50, lr=0.01, reg=0.01, iter=100\n",
      "\n",
      "TEST:\n",
      "...\n",
      "    | Recall@3 | Train (s) | Test (s)\n",
      "--- + -------- + --------- + --------\n",
      "BPR |   0.9627 |    0.0619 |   0.1115\n",
      "\n",
      "🔧 Тест: k=100, lr=0.005, reg=0.001, iter=50\n",
      "\n",
      "TEST:\n",
      "...\n",
      "    | Recall@3 | Train (s) | Test (s)\n",
      "--- + -------- + --------- + --------\n",
      "BPR |   0.9627 |    0.0582 |   0.1082\n",
      "\n",
      "🔧 Тест: k=100, lr=0.005, reg=0.001, iter=100\n",
      "\n",
      "TEST:\n",
      "...\n",
      "    | Recall@3 | Train (s) | Test (s)\n",
      "--- + -------- + --------- + --------\n",
      "BPR |   0.9627 |    0.1145 |   0.1024\n",
      "\n",
      "🔧 Тест: k=100, lr=0.005, reg=0.01, iter=50\n",
      "\n",
      "TEST:\n",
      "...\n",
      "    | Recall@3 | Train (s) | Test (s)\n",
      "--- + -------- + --------- + --------\n",
      "BPR |   0.9627 |    0.0614 |   0.1091\n",
      "\n",
      "🔧 Тест: k=100, lr=0.005, reg=0.01, iter=100\n",
      "\n",
      "TEST:\n",
      "...\n",
      "    | Recall@3 | Train (s) | Test (s)\n",
      "--- + -------- + --------- + --------\n",
      "BPR |   0.9627 |    0.1176 |   0.1149\n",
      "\n",
      "🔧 Тест: k=100, lr=0.01, reg=0.001, iter=50\n",
      "\n",
      "TEST:\n",
      "...\n",
      "    | Recall@3 | Train (s) | Test (s)\n",
      "--- + -------- + --------- + --------\n",
      "BPR |   0.9627 |    0.0616 |   0.1343\n",
      "\n",
      "🔧 Тест: k=100, lr=0.01, reg=0.001, iter=100\n",
      "\n",
      "TEST:\n",
      "...\n",
      "    | Recall@3 | Train (s) | Test (s)\n",
      "--- + -------- + --------- + --------\n",
      "BPR |   0.9627 |    0.1149 |   0.1093\n",
      "\n",
      "🔧 Тест: k=100, lr=0.01, reg=0.01, iter=50\n",
      "\n",
      "TEST:\n",
      "...\n",
      "    | Recall@3 | Train (s) | Test (s)\n",
      "--- + -------- + --------- + --------\n",
      "BPR |   0.9627 |    0.0615 |   0.1252\n",
      "\n",
      "🔧 Тест: k=100, lr=0.01, reg=0.01, iter=100\n",
      "\n",
      "TEST:\n",
      "...\n",
      "    | Recall@3 | Train (s) | Test (s)\n",
      "--- + -------- + --------- + --------\n",
      "BPR |   0.9627 |    0.1254 |   0.1178\n",
      "\n",
      "      k  learning_rate  lambda_reg  max_iter  recall@3\n",
      "0    10          0.005       0.001        50  0.962651\n",
      "1    10          0.005       0.001       100  0.962651\n",
      "22  100          0.010       0.010        50  0.962651\n",
      "21  100          0.010       0.001       100  0.962651\n",
      "20  100          0.010       0.001        50  0.962651\n"
     ]
    }
   ],
   "source": [
    "from cornac.models import BPR\n",
    "from cornac.metrics import Recall\n",
    "from cornac.experiment import Experiment\n",
    "import pandas as pd\n",
    "\n",
    "# Параметри для перебору\n",
    "k_values = [10, 50, 100]\n",
    "lr_values = [0.005, 0.01]\n",
    "reg_values = [0.001, 0.01]\n",
    "n_iter_values = [50, 100]\n",
    "\n",
    "results = []\n",
    "\n",
    "for k in k_values:\n",
    "    for lr in lr_values:\n",
    "        for reg in reg_values:\n",
    "            for n_iter in n_iter_values:\n",
    "                print(f\"🔧 Тест: k={k}, lr={lr}, reg={reg}, iter={n_iter}\")\n",
    "                \n",
    "                model = BPR(\n",
    "                    k=k,\n",
    "                    learning_rate=lr,\n",
    "                    lambda_reg=reg,\n",
    "                    max_iter=n_iter,\n",
    "                    verbose=False,\n",
    "                    seed=SEED\n",
    "                )\n",
    "\n",
    "                experiment = Experiment(\n",
    "                    eval_method=eval_method,\n",
    "                    models=[model],\n",
    "                    metrics=[Recall(k=3)],\n",
    "                    user_based=True,\n",
    "                    verbose=False\n",
    "                )\n",
    "\n",
    "                experiment.run()\n",
    "\n",
    "                #recall_score = experiment.result[0][1].value  # модель 0, метрика 1\n",
    "                recall_score = experiment.result[0].metric_avg_results['Recall@3']\n",
    "                results.append({\n",
    "                    'k': k,\n",
    "                    'learning_rate': lr,\n",
    "                    'lambda_reg': reg,\n",
    "                    'max_iter': n_iter,\n",
    "                    'recall@3': recall_score\n",
    "                })\n",
    "\n",
    "# Результати\n",
    "tuning_results = pd.DataFrame(results)\n",
    "tuning_results = tuning_results.sort_values(by='recall@3', ascending=False)\n",
    "print(tuning_results.head())\n"
   ]
  },
  {
   "cell_type": "code",
   "execution_count": 527,
   "id": "b18b7e14",
   "metadata": {},
   "outputs": [],
   "source": [
    "# k=10, lr=0.005, reg=0.001, iter=50\n",
    "\n",
    "NUM_FACTORS = 10\n",
    "NUM_EPOCHS = 50\n",
    "SEED = 42\n",
    "\n",
    "# Ініціалізація моделі\n",
    "bpr_tun = BPR(\n",
    "    k=NUM_FACTORS,\n",
    "    max_iter=NUM_EPOCHS,\n",
    "    learning_rate=0.005,\n",
    "    lambda_reg=0.001,\n",
    "    verbose=True,\n",
    "    seed=SEED\n",
    ")"
   ]
  },
  {
   "cell_type": "code",
   "execution_count": 528,
   "id": "bf3d895b",
   "metadata": {},
   "outputs": [
    {
     "data": {
      "application/vnd.jupyter.widget-view+json": {
       "model_id": "4d58715005764935ae258ed61440214c",
       "version_major": 2,
       "version_minor": 0
      },
      "text/plain": [
       "  0%|          | 0/50 [00:00<?, ?it/s]"
      ]
     },
     "metadata": {},
     "output_type": "display_data"
    },
    {
     "name": "stdout",
     "output_type": "stream",
     "text": [
      "Optimization finished!\n",
      "Took 0.0391 seconds for training.\n"
     ]
    }
   ],
   "source": [
    "with Timer() as t:\n",
    "    bpr_tun.fit(train_tun_c)\n",
    "print(\"Took {} seconds for training.\".format(t))"
   ]
  },
  {
   "cell_type": "code",
   "execution_count": 529,
   "id": "7b59978e",
   "metadata": {},
   "outputs": [
    {
     "name": "stdout",
     "output_type": "stream",
     "text": [
      "Took 0.0639 seconds for prediction.\n"
     ]
    }
   ],
   "source": [
    "with Timer() as t:\n",
    "    all_predictions_tun = predict_ranking(bpr_tun, train_tun, usercol='userID', itemcol='itemID', remove_seen=True)\n",
    "print(\"Took {} seconds for prediction.\".format(t))"
   ]
  },
  {
   "cell_type": "code",
   "execution_count": 530,
   "id": "b88f0c9f",
   "metadata": {},
   "outputs": [
    {
     "data": {
      "text/html": [
       "<div>\n",
       "<style scoped>\n",
       "    .dataframe tbody tr th:only-of-type {\n",
       "        vertical-align: middle;\n",
       "    }\n",
       "\n",
       "    .dataframe tbody tr th {\n",
       "        vertical-align: top;\n",
       "    }\n",
       "\n",
       "    .dataframe thead th {\n",
       "        text-align: right;\n",
       "    }\n",
       "</style>\n",
       "<table border=\"1\" class=\"dataframe\">\n",
       "  <thead>\n",
       "    <tr style=\"text-align: right;\">\n",
       "      <th></th>\n",
       "      <th>userID</th>\n",
       "      <th>itemID</th>\n",
       "      <th>prediction</th>\n",
       "    </tr>\n",
       "  </thead>\n",
       "  <tbody>\n",
       "    <tr>\n",
       "      <th>0</th>\n",
       "      <td>00018144326187028341560824524042711867</td>\n",
       "      <td>BUSINESS_LOUNGE</td>\n",
       "      <td>-2.536868</td>\n",
       "    </tr>\n",
       "    <tr>\n",
       "      <th>1</th>\n",
       "      <td>00018144326187028341560824524042711867</td>\n",
       "      <td>EXTRA_BAGGAGE</td>\n",
       "      <td>1.528809</td>\n",
       "    </tr>\n",
       "    <tr>\n",
       "      <th>3</th>\n",
       "      <td>00018144326187028341560824524042711867</td>\n",
       "      <td>ONBOARD_MEALS</td>\n",
       "      <td>-0.451173</td>\n",
       "    </tr>\n",
       "    <tr>\n",
       "      <th>4</th>\n",
       "      <td>00018144326187028341560824524042711867</td>\n",
       "      <td>PAID_SEATS</td>\n",
       "      <td>2.501618</td>\n",
       "    </tr>\n",
       "    <tr>\n",
       "      <th>5</th>\n",
       "      <td>00018144326187028341560824524042711867</td>\n",
       "      <td>SPECIAL_EQUIPMENT</td>\n",
       "      <td>-1.805407</td>\n",
       "    </tr>\n",
       "    <tr>\n",
       "      <th>...</th>\n",
       "      <td>...</td>\n",
       "      <td>...</td>\n",
       "      <td>...</td>\n",
       "    </tr>\n",
       "    <tr>\n",
       "      <th>18594</th>\n",
       "      <td>92218955318112362400345798422328641405</td>\n",
       "      <td>BUSINESS_LOUNGE</td>\n",
       "      <td>-2.539542</td>\n",
       "    </tr>\n",
       "    <tr>\n",
       "      <th>18596</th>\n",
       "      <td>92218955318112362400345798422328641405</td>\n",
       "      <td>FAST_TRACK</td>\n",
       "      <td>-0.153053</td>\n",
       "    </tr>\n",
       "    <tr>\n",
       "      <th>18597</th>\n",
       "      <td>92218955318112362400345798422328641405</td>\n",
       "      <td>ONBOARD_MEALS</td>\n",
       "      <td>-0.451095</td>\n",
       "    </tr>\n",
       "    <tr>\n",
       "      <th>18598</th>\n",
       "      <td>92218955318112362400345798422328641405</td>\n",
       "      <td>PAID_SEATS</td>\n",
       "      <td>2.495894</td>\n",
       "    </tr>\n",
       "    <tr>\n",
       "      <th>18599</th>\n",
       "      <td>92218955318112362400345798422328641405</td>\n",
       "      <td>SPECIAL_EQUIPMENT</td>\n",
       "      <td>-1.807502</td>\n",
       "    </tr>\n",
       "  </tbody>\n",
       "</table>\n",
       "<p>15183 rows × 3 columns</p>\n",
       "</div>"
      ],
      "text/plain": [
       "                                       userID             itemID  prediction\n",
       "0      00018144326187028341560824524042711867    BUSINESS_LOUNGE   -2.536868\n",
       "1      00018144326187028341560824524042711867      EXTRA_BAGGAGE    1.528809\n",
       "3      00018144326187028341560824524042711867      ONBOARD_MEALS   -0.451173\n",
       "4      00018144326187028341560824524042711867         PAID_SEATS    2.501618\n",
       "5      00018144326187028341560824524042711867  SPECIAL_EQUIPMENT   -1.805407\n",
       "...                                       ...                ...         ...\n",
       "18594  92218955318112362400345798422328641405    BUSINESS_LOUNGE   -2.539542\n",
       "18596  92218955318112362400345798422328641405         FAST_TRACK   -0.153053\n",
       "18597  92218955318112362400345798422328641405      ONBOARD_MEALS   -0.451095\n",
       "18598  92218955318112362400345798422328641405         PAID_SEATS    2.495894\n",
       "18599  92218955318112362400345798422328641405  SPECIAL_EQUIPMENT   -1.807502\n",
       "\n",
       "[15183 rows x 3 columns]"
      ]
     },
     "execution_count": 530,
     "metadata": {},
     "output_type": "execute_result"
    }
   ],
   "source": [
    "all_predictions_tun"
   ]
  },
  {
   "cell_type": "code",
   "execution_count": 544,
   "id": "ca2ccd83",
   "metadata": {},
   "outputs": [
    {
     "name": "stdout",
     "output_type": "stream",
     "text": [
      "MAP:\t0.700730\n",
      "NDCG:\t0.118072\n",
      "Precision@k:\t0.715328\n",
      "Recall@k:\t0.700730\n"
     ]
    }
   ],
   "source": [
    "k = 1\n",
    "eval_map_01 = map(val_tun, all_predictions_tun, col_prediction='prediction', k=k)\n",
    "eval_ndcg_01 = ndcg_at_k(val_tun, all_predictions_tun, col_prediction='prediction', k=k)\n",
    "eval_precision_01 = precision_at_k(val_tun, all_predictions_tun, col_prediction='prediction', k=k)\n",
    "eval_recall_01 = recall_at_k(val_tun, all_predictions_tun, col_prediction='prediction', k=k)\n",
    "\n",
    "print(\"MAP:\\t%f\" % eval_map_01,\n",
    "      \"NDCG:\\t%f\" % eval_ndcg_01,\n",
    "      \"Precision@k:\\t%f\" % eval_precision_01,\n",
    "      \"Recall@k:\\t%f\" % eval_recall_01, sep='\\n')"
   ]
  },
  {
   "cell_type": "code",
   "execution_count": 531,
   "id": "1bfcac4e",
   "metadata": {},
   "outputs": [
    {
     "name": "stdout",
     "output_type": "stream",
     "text": [
      "MAP:\t0.750000\n",
      "NDCG:\t0.141473\n",
      "Precision@k:\t0.760417\n",
      "Recall@k:\t0.750000\n"
     ]
    }
   ],
   "source": [
    "k = 1\n",
    "eval_map_01 = map(test_tun, all_predictions_tun, col_prediction='prediction', k=k)\n",
    "eval_ndcg_01 = ndcg_at_k(test_tun, all_predictions_tun, col_prediction='prediction', k=k)\n",
    "eval_precision_01 = precision_at_k(test_tun, all_predictions_tun, col_prediction='prediction', k=k)\n",
    "eval_recall_01 = recall_at_k(test_tun, all_predictions_tun, col_prediction='prediction', k=k)\n",
    "\n",
    "print(\"MAP:\\t%f\" % eval_map_01,\n",
    "      \"NDCG:\\t%f\" % eval_ndcg_01,\n",
    "      \"Precision@k:\\t%f\" % eval_precision_01,\n",
    "      \"Recall@k:\\t%f\" % eval_recall_01, sep='\\n')"
   ]
  },
  {
   "cell_type": "code",
   "execution_count": 537,
   "id": "c216524a",
   "metadata": {},
   "outputs": [],
   "source": [
    "# Очистити змінну, якщо вона була перезаписана\n",
    "try:\n",
    "    del recall_score\n",
    "except:\n",
    "    pass\n",
    "\n",
    "# Імпортувати заново функцію\n",
    "from sklearn.metrics import recall_score\n"
   ]
  },
  {
   "cell_type": "code",
   "execution_count": 541,
   "id": "782c86de",
   "metadata": {},
   "outputs": [],
   "source": [
    "services = ['PAID_SEATS', 'ONBOARD_MEALS', 'EXTRA_BAGGAGE', 'BUSINESS_LOUNGE', 'SPECIAL_EQUIPMENT', 'FAST_TRACK']\n",
    "\n",
    "# Створимо список для збереження результатів\n",
    "service_metrics_tun = []\n",
    "\n",
    "# Перетворимо тест і передбачення на словники для зручності доступу\n",
    "gt_tun = test_tun.groupby('userID')['itemID'].apply(set).to_dict()\n",
    "pred_tun = all_predictions_tun.groupby('userID')['itemID'].apply(list).to_dict()"
   ]
  },
  {
   "cell_type": "code",
   "execution_count": 542,
   "id": "badc06ec",
   "metadata": {},
   "outputs": [],
   "source": [
    "# Обчислення метрик по кожному сервісу\n",
    "for service in services:\n",
    "    y_true = []\n",
    "    y_pred = []\n",
    "\n",
    "    for user in gt_tun.keys():\n",
    "        y_true.append(1 if service in gt_tun[user] else 0)\n",
    "        y_pred.append(1 if service in pred_tun.get(user, []) else 0)\n",
    "\n",
    "    precision = precision_score(y_true, y_pred, zero_division=0)\n",
    "    recall = recall_score(y_true, y_pred, zero_division=0)\n",
    "    f1 = f1_score(y_true, y_pred, zero_division=0)\n",
    "\n",
    "    try:\n",
    "        auc = roc_auc_score(y_true, y_pred)\n",
    "    except ValueError:\n",
    "        auc = float('nan')  # якщо тільки один клас\n",
    "\n",
    "    service_metrics_tun.append({\n",
    "        'Ancillary Service': service,\n",
    "        'Precision': precision,\n",
    "        'Recall': recall,\n",
    "        'F1-Score': f1,\n",
    "        'AUC-ROC': auc\n",
    "    })"
   ]
  },
  {
   "cell_type": "code",
   "execution_count": 543,
   "id": "28e37293",
   "metadata": {},
   "outputs": [
    {
     "data": {
      "text/plain": [
       "[{'Ancillary Service': 'PAID_SEATS',\n",
       "  'Precision': 0.8333333333333334,\n",
       "  'Recall': 0.11645962732919254,\n",
       "  'F1-Score': 0.20435967302452315,\n",
       "  'AUC-ROC': 0.5388999167573797},\n",
       " {'Ancillary Service': 'ONBOARD_MEALS',\n",
       "  'Precision': 0.0903954802259887,\n",
       "  'Recall': 0.3076923076923077,\n",
       "  'F1-Score': 0.13973799126637554,\n",
       "  'AUC-ROC': 0.5717032967032968},\n",
       " {'Ancillary Service': 'EXTRA_BAGGAGE',\n",
       "  'Precision': 0.5426356589147286,\n",
       "  'Recall': 0.24390243902439024,\n",
       "  'F1-Score': 0.33653846153846156,\n",
       "  'AUC-ROC': 0.5823539040759536},\n",
       " {'Ancillary Service': 'BUSINESS_LOUNGE',\n",
       "  'Precision': 0.005319148936170213,\n",
       "  'Recall': 0.5,\n",
       "  'F1-Score': 0.010526315789473684,\n",
       "  'AUC-ROC': 0.6592233009708737},\n",
       " {'Ancillary Service': 'SPECIAL_EQUIPMENT',\n",
       "  'Precision': 0.026737967914438502,\n",
       "  'Recall': 0.3333333333333333,\n",
       "  'F1-Score': 0.04950495049504951,\n",
       "  'AUC-ROC': 0.5771878072763028},\n",
       " {'Ancillary Service': 'FAST_TRACK',\n",
       "  'Precision': 0.18787878787878787,\n",
       "  'Recall': 0.45588235294117646,\n",
       "  'F1-Score': 0.26609442060085836,\n",
       "  'AUC-ROC': 0.6584391017817915}]"
      ]
     },
     "execution_count": 543,
     "metadata": {},
     "output_type": "execute_result"
    }
   ],
   "source": [
    "service_metrics_tun"
   ]
  },
  {
   "cell_type": "code",
   "execution_count": 514,
   "id": "e6bd0d8c",
   "metadata": {},
   "outputs": [
    {
     "name": "stdout",
     "output_type": "stream",
     "text": [
      "MAP:\t0.830729\n",
      "NDCG:\t0.158355\n",
      "Precision@k:\t0.463542\n",
      "Recall@k:\t0.903646\n"
     ]
    }
   ],
   "source": [
    "k = 2\n",
    "eval_map_02 = map(test_tun, all_predictions_tun, col_prediction='prediction', k=k)\n",
    "eval_ndcg_02 = ndcg_at_k(test_tun, all_predictions_tun, col_prediction='prediction', k=k)\n",
    "eval_precision_02 = precision_at_k(test_tun, all_predictions_tun, col_prediction='prediction', k=k)\n",
    "eval_recall_02 = recall_at_k(test_tun, all_predictions_tun, col_prediction='prediction', k=k)\n",
    "\n",
    "print(\"MAP:\\t%f\" % eval_map_02,\n",
    "      \"NDCG:\\t%f\" % eval_ndcg_02,\n",
    "      \"Precision@k:\\t%f\" % eval_precision_02,\n",
    "      \"Recall@k:\\t%f\" % eval_recall_02, sep='\\n')"
   ]
  },
  {
   "cell_type": "code",
   "execution_count": 515,
   "id": "f6f82f22",
   "metadata": {},
   "outputs": [
    {
     "name": "stdout",
     "output_type": "stream",
     "text": [
      "MAP:\t0.855035\n",
      "NDCG:\t0.164950\n",
      "Precision@k:\t0.333333\n",
      "Recall@k:\t0.973958\n"
     ]
    }
   ],
   "source": [
    "k = 3\n",
    "eval_map_03 = map(test_tun, all_predictions_tun, col_prediction='prediction', k=k)\n",
    "eval_ndcg_03 = ndcg_at_k(test_tun, all_predictions_tun, col_prediction='prediction', k=k)\n",
    "eval_precision_03 = precision_at_k(test_tun, all_predictions_tun, col_prediction='prediction', k=k)\n",
    "eval_recall_03 = recall_at_k(test_tun, all_predictions_tun, col_prediction='prediction', k=k)\n",
    "\n",
    "print(\"MAP:\\t%f\" % eval_map_03,\n",
    "      \"NDCG:\\t%f\" % eval_ndcg_03,\n",
    "      \"Precision@k:\\t%f\" % eval_precision_03,\n",
    "      \"Recall@k:\\t%f\" % eval_recall_03, sep='\\n')"
   ]
  },
  {
   "cell_type": "code",
   "execution_count": 516,
   "id": "36b31f6d",
   "metadata": {},
   "outputs": [
    {
     "name": "stdout",
     "output_type": "stream",
     "text": [
      "MAP:\t0.861545\n",
      "NDCG:\t0.166714\n",
      "Precision@k:\t0.256510\n",
      "Recall@k:\t0.994792\n"
     ]
    }
   ],
   "source": [
    "k = 4\n",
    "eval_map_04 = map(test_tun, all_predictions_tun, col_prediction='prediction', k=k)\n",
    "eval_ndcg_04 = ndcg_at_k(test_tun, all_predictions_tun, col_prediction='prediction', k=k)\n",
    "eval_precision_04 = precision_at_k(test_tun, all_predictions_tun, col_prediction='prediction', k=k)\n",
    "eval_recall_04 = recall_at_k(test_tun, all_predictions_tun, col_prediction='prediction', k=k)\n",
    "\n",
    "print(\"MAP:\\t%f\" % eval_map_04,\n",
    "      \"NDCG:\\t%f\" % eval_ndcg_04,\n",
    "      \"Precision@k:\\t%f\" % eval_precision_04,\n",
    "      \"Recall@k:\\t%f\" % eval_recall_04, sep='\\n')"
   ]
  },
  {
   "cell_type": "code",
   "execution_count": 517,
   "id": "c8a5df8e",
   "metadata": {},
   "outputs": [
    {
     "name": "stdout",
     "output_type": "stream",
     "text": [
      "MAP:\t0.862587\n",
      "NDCG:\t0.167089\n",
      "Precision@k:\t0.206250\n",
      "Recall@k:\t1.000000\n"
     ]
    }
   ],
   "source": [
    "k = 5\n",
    "eval_map_05 = map(test_tun, all_predictions_tun, col_prediction='prediction', k=k)\n",
    "eval_ndcg_05 = ndcg_at_k(test_tun, all_predictions_tun, col_prediction='prediction', k=k)\n",
    "eval_precision_05 = precision_at_k(test_tun, all_predictions_tun, col_prediction='prediction', k=k)\n",
    "eval_recall_05 = recall_at_k(test_tun, all_predictions_tun, col_prediction='prediction', k=k)\n",
    "\n",
    "print(\"MAP:\\t%f\" % eval_map_05,\n",
    "      \"NDCG:\\t%f\" % eval_ndcg_05,\n",
    "      \"Precision@k:\\t%f\" % eval_precision_05,\n",
    "      \"Recall@k:\\t%f\" % eval_recall_05, sep='\\n')"
   ]
  },
  {
   "cell_type": "code",
   "execution_count": 518,
   "id": "a55d02a2",
   "metadata": {},
   "outputs": [
    {
     "name": "stdout",
     "output_type": "stream",
     "text": [
      "MAP:\t0.862587\n",
      "NDCG:\t0.167089\n",
      "Precision@k:\t0.171875\n",
      "Recall@k:\t1.000000\n"
     ]
    }
   ],
   "source": [
    "k = 6\n",
    "eval_map_06 = map(test_tun, all_predictions_tun, col_prediction='prediction', k=k)\n",
    "eval_ndcg_06 = ndcg_at_k(test_tun, all_predictions_tun, col_prediction='prediction', k=k)\n",
    "eval_precision_06 = precision_at_k(test_tun, all_predictions_tun, col_prediction='prediction', k=k)\n",
    "eval_recall_06 = recall_at_k(test_tun, all_predictions_tun, col_prediction='prediction', k=k)\n",
    "\n",
    "print(\"MAP:\\t%f\" % eval_map_06,\n",
    "      \"NDCG:\\t%f\" % eval_ndcg_06,\n",
    "      \"Precision@k:\\t%f\" % eval_precision_06,\n",
    "      \"Recall@k:\\t%f\" % eval_recall_06, sep='\\n')"
   ]
  }
 ],
 "metadata": {
  "kernelspec": {
   "display_name": ".venv",
   "language": "python",
   "name": "python3"
  },
  "language_info": {
   "codemirror_mode": {
    "name": "ipython",
    "version": 3
   },
   "file_extension": ".py",
   "mimetype": "text/x-python",
   "name": "python",
   "nbconvert_exporter": "python",
   "pygments_lexer": "ipython3",
   "version": "3.12.1"
  }
 },
 "nbformat": 4,
 "nbformat_minor": 5
}
